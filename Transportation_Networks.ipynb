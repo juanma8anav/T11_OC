{
  "cells": [
    {
      "cell_type": "markdown",
      "metadata": {
        "id": "BGvTjsmC5qRk",
        "nbpages": {
          "level": 0,
          "link": "[](https://jckantor.github.io/ND-Pyomo-Cookbook/03.01-Transportation-Networks.html)",
          "section": ""
        },
        "pycharm": {}
      },
      "source": [
        "<!--NOTEBOOK_HEADER-->\n",
        "*This notebook contains material from [ND-Pyomo-Cookbook](https://jckantor.github.io/ND-Pyomo-Cookbook);\n",
        "content is available [on Github](https://github.com/jckantor/ND-Pyomo-Cookbook.git).*\n",
        "*The text is released under the [CC-BY-NC-ND-4.0 license](https://creativecommons.org/licenses/by-nc-nd/4.0/legalcode),\n",
        "and code is released under the [MIT license](https://opensource.org/licenses/MIT).*"
      ]
    },
    {
      "cell_type": "markdown",
      "metadata": {
        "id": "wE06o-N95qRl",
        "nbpages": {
          "level": 0,
          "link": "[](https://jckantor.github.io/ND-Pyomo-Cookbook/03.01-Transportation-Networks.html)",
          "section": ""
        },
        "pycharm": {}
      },
      "source": [
        "<!--NAVIGATION-->\n",
        "< [3.0 Assignment Problems](https://jckantor.github.io/ND-Pyomo-Cookbook/03.00-Assignment-Problems.html) | [Contents](toc.html) | [Tag Index](tag_index.html) | [4.0 Scheduling with Disjunctive Constraints](https://jckantor.github.io/ND-Pyomo-Cookbook/04.00-Scheduling-with-Disjunctive-Constraints.html) ><p><a href=\"https://colab.research.google.com/github/jckantor/ND-Pyomo-Cookbook/blob/master/docs/03.01-Transportation-Networks.ipynb\"> <img align=\"left\" src=\"https://colab.research.google.com/assets/colab-badge.svg\" alt=\"Open in Colab\" title=\"Open in Google Colaboratory\"></a><p><a href=\"https://jckantor.github.io/ND-Pyomo-Cookbook/03.01-Transportation-Networks.ipynb\"> <img align=\"left\" src=\"https://img.shields.io/badge/Github-Download-blue.svg\" alt=\"Download\" title=\"Download Notebook\"></a>"
      ]
    },
    {
      "cell_type": "markdown",
      "metadata": {
        "id": "jMxww7mcmaBK",
        "nbpages": {
          "level": 1,
          "link": "[3.1 Transportation Networks](https://jckantor.github.io/ND-Pyomo-Cookbook/03.01-Transportation-Networks.html#3.1-Transportation-Networks)",
          "section": "3.1 Transportation Networks"
        },
        "pycharm": {}
      },
      "source": [
        "# 3.1 Transportation Networks\n",
        "\n",
        "Keywords: transportation, assignment, cbc usage\n",
        "\n",
        "This notebook demonstrates the solution of transportation network problems using Pyomo and GLPK. The problem description and data are adapted from Chapter 5 of Johannes Bisschop, [\"AIMMS Optimization Modeling\", AIMMS B. V., 2014](http://download.aimms.com/aimms/download/manuals/AIMMS3_OM.pdf).\n"
      ]
    },
    {
      "cell_type": "markdown",
      "metadata": {
        "nbpages": {
          "level": 2,
          "link": "[3.1.1 Imports](https://jckantor.github.io/ND-Pyomo-Cookbook/03.01-Transportation-Networks.html#3.1.1-Imports)",
          "section": "3.1.1 Imports"
        },
        "id": "JT6MHD_X0sJc"
      },
      "source": [
        "## 3.1.1 Imports"
      ]
    },
    {
      "cell_type": "code",
      "execution_count": 1,
      "metadata": {
        "id": "WdqEo2IbmjQu",
        "nbpages": {
          "level": 2,
          "link": "[3.1.1 Imports](https://jckantor.github.io/ND-Pyomo-Cookbook/03.01-Transportation-Networks.html#3.1.1-Imports)",
          "section": "3.1.1 Imports"
        },
        "pycharm": {},
        "colab": {
          "base_uri": "https://localhost:8080/"
        },
        "outputId": "55a22207-600e-4750-ea75-734950b586c1"
      },
      "outputs": [
        {
          "output_type": "stream",
          "name": "stdout",
          "text": [
            "\u001b[K     |████████████████████████████████| 9.6 MB 2.2 MB/s \n",
            "\u001b[K     |████████████████████████████████| 49 kB 4.4 MB/s \n",
            "\u001b[?25hSelecting previously unselected package coinor-libcoinutils3v5.\n",
            "(Reading database ... 156210 files and directories currently installed.)\n",
            "Preparing to unpack .../0-coinor-libcoinutils3v5_2.10.14+repack1-1_amd64.deb ...\n",
            "Unpacking coinor-libcoinutils3v5 (2.10.14+repack1-1) ...\n",
            "Selecting previously unselected package coinor-libosi1v5.\n",
            "Preparing to unpack .../1-coinor-libosi1v5_0.107.9+repack1-1_amd64.deb ...\n",
            "Unpacking coinor-libosi1v5 (0.107.9+repack1-1) ...\n",
            "Selecting previously unselected package coinor-libclp1.\n",
            "Preparing to unpack .../2-coinor-libclp1_1.16.11+repack1-1_amd64.deb ...\n",
            "Unpacking coinor-libclp1 (1.16.11+repack1-1) ...\n",
            "Selecting previously unselected package coinor-libcgl1.\n",
            "Preparing to unpack .../3-coinor-libcgl1_0.59.10+repack1-1_amd64.deb ...\n",
            "Unpacking coinor-libcgl1 (0.59.10+repack1-1) ...\n",
            "Selecting previously unselected package coinor-libcbc3.\n",
            "Preparing to unpack .../4-coinor-libcbc3_2.9.9+repack1-1_amd64.deb ...\n",
            "Unpacking coinor-libcbc3 (2.9.9+repack1-1) ...\n",
            "Selecting previously unselected package coinor-cbc.\n",
            "Preparing to unpack .../5-coinor-cbc_2.9.9+repack1-1_amd64.deb ...\n",
            "Unpacking coinor-cbc (2.9.9+repack1-1) ...\n",
            "Setting up coinor-libcoinutils3v5 (2.10.14+repack1-1) ...\n",
            "Setting up coinor-libosi1v5 (0.107.9+repack1-1) ...\n",
            "Setting up coinor-libclp1 (1.16.11+repack1-1) ...\n",
            "Setting up coinor-libcgl1 (0.59.10+repack1-1) ...\n",
            "Setting up coinor-libcbc3 (2.9.9+repack1-1) ...\n",
            "Setting up coinor-cbc (2.9.9+repack1-1) ...\n",
            "Processing triggers for man-db (2.8.3-2ubuntu0.1) ...\n",
            "Processing triggers for libc-bin (2.27-3ubuntu1.3) ...\n",
            "/sbin/ldconfig.real: /usr/local/lib/python3.7/dist-packages/ideep4py/lib/libmkldnn.so.0 is not a symbolic link\n",
            "\n"
          ]
        }
      ],
      "source": [
        "import shutil\n",
        "import sys\n",
        "import os.path\n",
        "\n",
        "if not shutil.which(\"pyomo\"):\n",
        "    !pip install -q pyomo\n",
        "    assert(shutil.which(\"pyomo\"))\n",
        "\n",
        "if not (shutil.which(\"cbc\") or os.path.isfile(\"cbc\")):\n",
        "    if \"google.colab\" in sys.modules:\n",
        "        !apt-get install -y -qq coinor-cbc\n",
        "    else:\n",
        "        try:\n",
        "            !conda install -c conda-forge coincbc \n",
        "        except:\n",
        "            pass\n",
        "\n",
        "assert(shutil.which(\"cbc\") or os.path.isfile(\"cbc\"))\n",
        "    \n",
        "from pyomo.environ import *"
      ]
    },
    {
      "cell_type": "markdown",
      "metadata": {
        "nbpages": {
          "level": 2,
          "link": "[3.1.2 Background](https://jckantor.github.io/ND-Pyomo-Cookbook/03.01-Transportation-Networks.html#3.1.2-Background)",
          "section": "3.1.2 Background"
        },
        "pycharm": {
          "metadata": false,
          "name": "#%% md\n"
        },
        "id": "fEwHYTjR0sJd"
      },
      "source": [
        "## 3.1.2 Background\n",
        "\n",
        "The prototypical transportation problem deals with the distribution of a commodity from a set of sources to a set of destinations. The object is to minimize total transportation costs while satisfying constraints on the supplies available at each of the sources, and satisfying demand requirements at each of the destinations.\n",
        "\n",
        "Here we illustrate the transportation problem using an example from Chapter 5 of Johannes Bisschop, \"AIMMS Optimization Modeling\", Paragon Decision Sciences, 1999. In this example there are two factories and six customer sites located in 8 European cities as shown in the following map. The customer sites are labeled in red, the factories are labeled in blue."
      ]
    },
    {
      "cell_type": "markdown",
      "metadata": {
        "id": "i2uB5hYLmaBN",
        "nbpages": {
          "level": 2,
          "link": "[3.1.2 Background](https://jckantor.github.io/ND-Pyomo-Cookbook/03.01-Transportation-Networks.html#3.1.2-Background)",
          "section": "3.1.2 Background"
        },
        "pycharm": {}
      },
      "source": [
        "![TransportationNetworksMap.png](https://github.com/jckantor/ND-Pyomo-Cookbook/blob/master/notebooks/figures/TransportationNetworksMap.png?raw=1)"
      ]
    },
    {
      "cell_type": "markdown",
      "metadata": {
        "id": "P7FCxssgmaBP",
        "nbpages": {
          "level": 2,
          "link": "[3.1.2 Background](https://jckantor.github.io/ND-Pyomo-Cookbook/03.01-Transportation-Networks.html#3.1.2-Background)",
          "section": "3.1.2 Background"
        },
        "pycharm": {}
      },
      "source": [
        "Transportation costs between sources and destinations are given in units of &euro;/ton of goods shipped, and list in the following table along with source capacity and demand requirements.\n"
      ]
    },
    {
      "cell_type": "markdown",
      "metadata": {
        "nbpages": {
          "level": 3,
          "link": "[3.1.2.1 Table of transportation costs, customer demand, and available supplies](https://jckantor.github.io/ND-Pyomo-Cookbook/03.01-Transportation-Networks.html#3.1.2.1-Table-of-transportation-costs,-customer-demand,-and-available-supplies)",
          "section": "3.1.2.1 Table of transportation costs, customer demand, and available supplies"
        },
        "pycharm": {
          "metadata": false,
          "name": "#%% md\n"
        },
        "id": "4U0lfyCO0sJf"
      },
      "source": [
        "### 3.1.2.1 Table of transportation costs, customer demand, and available supplies\n",
        "\n",
        "| Customer\\Source | Arnhem [&euro;/ton] | Gouda [&euro;/ton] | Demand [tons]|\n",
        "| :--: | :----: | :---: | :----: |\n",
        "| London | n/a | 2.5 | 125 |\n",
        "| Berlin | 2.5 | n/a | 175 |\n",
        "| Maastricht | 1.6 | 2.0 | 225 |\n",
        "| Amsterdam | 1.4 | 1.0 | 250 |\n",
        "| Utrecht | 0.8 | 1.0 | 225 |\n",
        "| The Hague | 1.4 | 0.8 | 200 |\n",
        "| **Supply [tons]** | 550 tons | 700 tons |  |\n",
        "\n",
        "The situation can be modeled by links connecting a set nodes representing sources to a set of nodes representing customers.\n",
        "\n",
        "![TransportNet.png](https://github.com/jckantor/ND-Pyomo-Cookbook/blob/master/notebooks/figures/TransportNet.png?raw=1)\n",
        "\n",
        "For each link we can have a parameter $T[c,s]$ denoting the cost of shipping a ton of goods over the link. What we need to determine is the amount of goods to be shipped over each link, which we will represent as a non-negative decision variable $x[c,s]$.\n",
        "\n",
        "The problem objective is to minimize the total shipping cost to all customers from all sources. \n",
        "\n",
        "$$\\mbox{minimize:}\\quad \\mbox{Cost} = \\sum_{c \\in Customers}\\sum_{s \\in Sources} T[c,s] x[c,s]$$\n",
        "\n",
        "Shipments from all sources can not exceed the manufacturing capacity of the source.\n",
        "\n",
        "$$\\sum_{c \\in Customers} x[c,s] \\leq \\mbox{Supply}[s] \\qquad \\forall s \\in Sources$$\n",
        "\n",
        "Shipments to each customer must satisfy their demand.\n",
        "\n",
        "$$\\sum_{s\\in Sources} x[c,s] = \\mbox{Demand}[c] \\qquad \\forall c \\in Customers$$"
      ]
    },
    {
      "cell_type": "markdown",
      "metadata": {
        "id": "Z6lxj4h7mfBA",
        "nbpages": {
          "level": 2,
          "link": "[3.1.3 Pyomo model](https://jckantor.github.io/ND-Pyomo-Cookbook/03.01-Transportation-Networks.html#3.1.3-Pyomo-model)",
          "section": "3.1.3 Pyomo model"
        },
        "pycharm": {}
      },
      "source": [
        "## 3.1.3 Pyomo model"
      ]
    },
    {
      "cell_type": "markdown",
      "metadata": {
        "id": "KVTGAB_rmaBR",
        "nbpages": {
          "level": 3,
          "link": "[3.1.3.1 Data File](https://jckantor.github.io/ND-Pyomo-Cookbook/03.01-Transportation-Networks.html#3.1.3.1-Data-File)",
          "section": "3.1.3.1 Data File"
        },
        "pycharm": {}
      },
      "source": [
        "### 3.1.3.1 Data File"
      ]
    },
    {
      "cell_type": "code",
      "execution_count": 9,
      "metadata": {
        "id": "PWTg-VkImaBR",
        "nbpages": {
          "level": 3,
          "link": "[3.1.3.1 Data File](https://jckantor.github.io/ND-Pyomo-Cookbook/03.01-Transportation-Networks.html#3.1.3.1-Data-File)",
          "section": "3.1.3.1 Data File"
        },
        "pycharm": {}
      },
      "outputs": [],
      "source": [
        "Demand = {\n",
        "   'Lon':   125,        # London\n",
        "   'Ber':   175,        # Berlin\n",
        "   'Maa':   225,        # Maastricht\n",
        "   'Ams':   250,        # Amsterdam\n",
        "   'Utr':   225,        # Utrecht\n",
        "   'Hag':   200         # The Hague\n",
        "}\n",
        "\n",
        "Supply = {\n",
        "   'Arn':   650,        # Arnhem\n",
        "   'Gou':   600         # Gouda\n",
        "}\n",
        "\n",
        "T = {\n",
        "    ('Lon','Arn'): 1000,\n",
        "    ('Lon','Gou'): 2.5,\n",
        "    ('Ber','Arn'): 2.5,\n",
        "    ('Ber','Gou'): 1000,\n",
        "    ('Maa','Arn'): 1.6,\n",
        "    ('Maa','Gou'): 2.0,\n",
        "    ('Ams','Arn'): 1.4,\n",
        "    ('Ams','Gou'): 1.0,\n",
        "    ('Utr','Arn'): 0.8,\n",
        "    ('Utr','Gou'): 1.0,\n",
        "    ('Hag','Arn'): 1.4,\n",
        "    ('Hag','Gou'): 0.8\n",
        "}"
      ]
    },
    {
      "cell_type": "markdown",
      "metadata": {
        "id": "Xzn73cqWmaBX",
        "nbpages": {
          "level": 3,
          "link": "[3.1.3.2 Model file](https://jckantor.github.io/ND-Pyomo-Cookbook/03.01-Transportation-Networks.html#3.1.3.2-Model-file)",
          "section": "3.1.3.2 Model file"
        },
        "pycharm": {}
      },
      "source": [
        "### 3.1.3.2 Model file"
      ]
    },
    {
      "cell_type": "code",
      "execution_count": 10,
      "metadata": {
        "colab": {
          "base_uri": "https://localhost:8080/"
        },
        "id": "cVoqn1ozmaBX",
        "nbpages": {
          "level": 3,
          "link": "[3.1.3.2 Model file](https://jckantor.github.io/ND-Pyomo-Cookbook/03.01-Transportation-Networks.html#3.1.3.2-Model-file)",
          "section": "3.1.3.2 Model file"
        },
        "outputId": "90e67e99-0776-4eaa-854d-48421727c4b6",
        "pycharm": {}
      },
      "outputs": [
        {
          "output_type": "stream",
          "name": "stdout",
          "text": [
            "# ==========================================================\n",
            "# = Solver Results                                         =\n",
            "# ==========================================================\n",
            "# ----------------------------------------------------------\n",
            "#   Problem Information\n",
            "# ----------------------------------------------------------\n",
            "Problem: \n",
            "- Name: unknown\n",
            "  Lower bound: 1700.0\n",
            "  Upper bound: 1700.0\n",
            "  Number of objectives: 1\n",
            "  Number of constraints: 9\n",
            "  Number of variables: 13\n",
            "  Number of nonzeros: 6\n",
            "  Sense: minimize\n",
            "# ----------------------------------------------------------\n",
            "#   Solver Information\n",
            "# ----------------------------------------------------------\n",
            "Solver: \n",
            "- Status: ok\n",
            "  User time: -1.0\n",
            "  System time: 0.0\n",
            "  Wallclock time: 0.0\n",
            "  Termination condition: optimal\n",
            "  Termination message: Model was solved to optimality (subject to tolerances), and an optimal solution is available.\n",
            "  Statistics: \n",
            "    Branch and bound: \n",
            "      Number of bounded subproblems: None\n",
            "      Number of created subproblems: None\n",
            "    Black box: \n",
            "      Number of iterations: 0\n",
            "  Error rc: 0\n",
            "  Time: 0.016446352005004883\n",
            "# ----------------------------------------------------------\n",
            "#   Solution Information\n",
            "# ----------------------------------------------------------\n",
            "Solution: \n",
            "- number of solutions: 0\n",
            "  number of solutions displayed: 0\n"
          ]
        }
      ],
      "source": [
        "# Step 0: Create an instance of the model\n",
        "model = ConcreteModel()\n",
        "model.dual = Suffix(direction=Suffix.IMPORT)\n",
        "\n",
        "# Step 1: Define index sets\n",
        "CUS = list(Demand.keys())\n",
        "SRC = list(Supply.keys())\n",
        "\n",
        "# Step 2: Define the decision \n",
        "model.x = Var(CUS, SRC, domain = NonNegativeReals)\n",
        "\n",
        "# Step 3: Define Objective\n",
        "model.Cost = Objective(\n",
        "    expr = sum([T[c,s]*model.x[c,s] for c in CUS for s in SRC]),\n",
        "    sense = minimize)\n",
        "\n",
        "# Step 4: Constraints\n",
        "model.src = ConstraintList()\n",
        "for s in SRC:\n",
        "    model.src.add(sum([model.x[c,s] for c in CUS]) <= Supply[s])\n",
        "        \n",
        "model.dmd = ConstraintList()\n",
        "for c in CUS:\n",
        "    model.dmd.add(sum([model.x[c,s] for s in SRC]) == Demand[c])\n",
        "    \n",
        "results = SolverFactory('cbc').solve(model)\n",
        "results.write()"
      ]
    },
    {
      "cell_type": "markdown",
      "metadata": {
        "id": "zPozph3lmaBc",
        "nbpages": {
          "level": 2,
          "link": "[3.1.4 Solution](https://jckantor.github.io/ND-Pyomo-Cookbook/03.01-Transportation-Networks.html#3.1.4-Solution)",
          "section": "3.1.4 Solution"
        },
        "pycharm": {}
      },
      "source": [
        "## 3.1.4 Solution"
      ]
    },
    {
      "cell_type": "code",
      "execution_count": 11,
      "metadata": {
        "colab": {
          "base_uri": "https://localhost:8080/"
        },
        "id": "c9oQxQsxmaBe",
        "nbpages": {
          "level": 2,
          "link": "[3.1.4 Solution](https://jckantor.github.io/ND-Pyomo-Cookbook/03.01-Transportation-Networks.html#3.1.4-Solution)",
          "section": "3.1.4 Solution"
        },
        "outputId": "de605e30-7580-40f2-afd1-24467694476d",
        "pycharm": {}
      },
      "outputs": [
        {
          "output_type": "stream",
          "name": "stdout",
          "text": [
            "Lon Arn 0.0\n",
            "Lon Gou 125.0\n",
            "Ber Arn 175.0\n",
            "Ber Gou 0.0\n",
            "Maa Arn 225.0\n",
            "Maa Gou 0.0\n",
            "Ams Arn 0.0\n",
            "Ams Gou 250.0\n",
            "Utr Arn 225.0\n",
            "Utr Gou 0.0\n",
            "Hag Arn 0.0\n",
            "Hag Gou 200.0\n"
          ]
        }
      ],
      "source": [
        "for c in CUS:\n",
        "    for s in SRC:\n",
        "        print(c, s, model.x[c,s]())"
      ]
    },
    {
      "cell_type": "code",
      "execution_count": 12,
      "metadata": {
        "colab": {
          "base_uri": "https://localhost:8080/"
        },
        "id": "dfLXRj7umaBz",
        "nbpages": {
          "level": 2,
          "link": "[3.1.4 Solution](https://jckantor.github.io/ND-Pyomo-Cookbook/03.01-Transportation-Networks.html#3.1.4-Solution)",
          "section": "3.1.4 Solution"
        },
        "outputId": "fd728a9b-a84f-4203-94cc-f1ec49b780d5",
        "pycharm": {}
      },
      "outputs": [
        {
          "output_type": "stream",
          "name": "stdout",
          "text": [
            "Total Shipping Costs =  1700.0\n",
            "\n",
            "Shipping Table:\n",
            "Ship from  Arn  to  Ber : 175.0\n",
            "Ship from  Arn  to  Maa : 225.0\n",
            "Ship from  Arn  to  Utr : 225.0\n",
            "Ship from  Gou  to  Lon : 125.0\n",
            "Ship from  Gou  to  Ams : 250.0\n",
            "Ship from  Gou  to  Hag : 200.0\n"
          ]
        }
      ],
      "source": [
        "if 'ok' == str(results.Solver.status):\n",
        "    print(\"Total Shipping Costs = \",model.Cost())\n",
        "    print(\"\\nShipping Table:\")\n",
        "    for s in SRC:\n",
        "        for c in CUS:\n",
        "            if model.x[c,s]() > 0:\n",
        "                print(\"Ship from \", s,\" to \", c, \":\", model.x[c,s]())\n",
        "else:\n",
        "    print(\"No Valid Solution Found\")"
      ]
    },
    {
      "cell_type": "markdown",
      "metadata": {
        "id": "nkc1GK46maB3",
        "nbpages": {
          "level": 2,
          "link": "[3.1.4 Solution](https://jckantor.github.io/ND-Pyomo-Cookbook/03.01-Transportation-Networks.html#3.1.4-Solution)",
          "section": "3.1.4 Solution"
        },
        "pycharm": {}
      },
      "source": [
        "The solution has the interesting property that, with the exception of Utrecht, customers are served by just one source.\n",
        "\n",
        "![TransportNet_soln.png](https://github.com/jckantor/ND-Pyomo-Cookbook/blob/master/notebooks/figures/TransportNet_soln.png?raw=1)\n"
      ]
    },
    {
      "cell_type": "markdown",
      "metadata": {
        "id": "wCmJ6UACmaB4",
        "nbpages": {
          "level": 2,
          "link": "[3.1.5 Sensitivity analysis](https://jckantor.github.io/ND-Pyomo-Cookbook/03.01-Transportation-Networks.html#3.1.5-Sensitivity-analysis)",
          "section": "3.1.5 Sensitivity analysis"
        },
        "pycharm": {}
      },
      "source": [
        "## 3.1.5 Sensitivity analysis"
      ]
    },
    {
      "cell_type": "markdown",
      "metadata": {
        "nbpages": {
          "level": 3,
          "link": "[3.1.5.1 Analysis by source](https://jckantor.github.io/ND-Pyomo-Cookbook/03.01-Transportation-Networks.html#3.1.5.1-Analysis-by-source)",
          "section": "3.1.5.1 Analysis by source"
        },
        "pycharm": {
          "metadata": false,
          "name": "#%% md\n"
        },
        "id": "hSOoszRO0sJi"
      },
      "source": [
        "### 3.1.5.1 Analysis by source"
      ]
    },
    {
      "cell_type": "code",
      "execution_count": 13,
      "metadata": {
        "colab": {
          "base_uri": "https://localhost:8080/"
        },
        "id": "eq7tLE9FmaB6",
        "nbpages": {
          "level": 3,
          "link": "[3.1.5.1 Analysis by source](https://jckantor.github.io/ND-Pyomo-Cookbook/03.01-Transportation-Networks.html#3.1.5.1-Analysis-by-source)",
          "section": "3.1.5.1 Analysis by source"
        },
        "outputId": "c9f97686-e07e-44e0-e047-eac2ca2b528d",
        "pycharm": {}
      },
      "outputs": [
        {
          "output_type": "stream",
          "name": "stdout",
          "text": [
            "\n",
            "Sources:\n",
            "Source      Capacity   Shipped    Margin\n",
            "Arn            650.0     625.0    0.0000\n",
            "Gou            600.0     575.0    0.0000\n"
          ]
        }
      ],
      "source": [
        "if 'ok' == str(results.Solver.status):\n",
        "    print(\"\\nSources:\")\n",
        "    print(\"Source      Capacity   Shipped    Margin\")\n",
        "    for m in model.src.keys():\n",
        "        s = SRC[m-1]\n",
        "        print(\"{0:10s}{1:10.1f}{2:10.1f}{3:10.4f}\".format(s,Supply[s],model.src[m](),model.dual[model.src[m]]))\n",
        "else:\n",
        "    print(\"No Valid Solution Found\")"
      ]
    },
    {
      "cell_type": "markdown",
      "metadata": {
        "id": "ZIlMOpDLmaB9",
        "nbpages": {
          "level": 3,
          "link": "[3.1.5.1 Analysis by source](https://jckantor.github.io/ND-Pyomo-Cookbook/03.01-Transportation-Networks.html#3.1.5.1-Analysis-by-source)",
          "section": "3.1.5.1 Analysis by source"
        },
        "pycharm": {}
      },
      "source": [
        "The 'marginal' values are telling us how much the total costs will be increased for each one ton increase in the available supply from each source. The optimization calculation says that only 650 tons of the 700 available from Gouda should used for a minimum cost solution, which rules out any further cost reductions by increasing the available supply. In fact, we could decrease the supply Gouda without any harm. The marginal value of Gouda is 0.\n",
        "\n",
        "The source at Arnhem is a different matter. First, all 550 available tons are being used. Second, from the marginal value we see that the total transportations costs would be reduced by 0.2 Euros for each additional ton of supply.  \n",
        "\n",
        "The management conclusion we can draw is that there is excess supply available at Gouda which should, if feasible, me moved to Arnhem.\n",
        "\n",
        "Now that's a valuable piece of information!"
      ]
    },
    {
      "cell_type": "markdown",
      "metadata": {
        "id": "e9EJqVwSmaB-",
        "nbpages": {
          "level": 3,
          "link": "[3.1.5.2 Analysis by customer](https://jckantor.github.io/ND-Pyomo-Cookbook/03.01-Transportation-Networks.html#3.1.5.2-Analysis-by-customer)",
          "section": "3.1.5.2 Analysis by customer"
        },
        "pycharm": {}
      },
      "source": [
        "### 3.1.5.2 Analysis by customer"
      ]
    },
    {
      "cell_type": "code",
      "execution_count": 14,
      "metadata": {
        "colab": {
          "base_uri": "https://localhost:8080/"
        },
        "id": "EQLauqn0maB_",
        "nbpages": {
          "level": 3,
          "link": "[3.1.5.2 Analysis by customer](https://jckantor.github.io/ND-Pyomo-Cookbook/03.01-Transportation-Networks.html#3.1.5.2-Analysis-by-customer)",
          "section": "3.1.5.2 Analysis by customer"
        },
        "outputId": "bdda7e1f-8eee-4e94-c557-1c84d73940e4",
        "pycharm": {}
      },
      "outputs": [
        {
          "output_type": "stream",
          "name": "stdout",
          "text": [
            "\n",
            "Customers:\n",
            "Customer      Demand   Shipped    Margin\n",
            "Lon            125.0     125.0    2.5000\n",
            "Ber            175.0     175.0    2.5000\n",
            "Maa            225.0     225.0    1.6000\n",
            "Ams            250.0     250.0    1.0000\n",
            "Utr            225.0     225.0    0.8000\n",
            "Hag            200.0     200.0    0.8000\n"
          ]
        }
      ],
      "source": [
        "if 'ok' == str(results.Solver.status):    \n",
        "    print(\"\\nCustomers:\")\n",
        "    print(\"Customer      Demand   Shipped    Margin\")\n",
        "    for n in model.dmd.keys():\n",
        "        c = CUS[n-1]\n",
        "        print(\"{0:10s}{1:10.1f}{2:10.1f}{3:10.4f}\".format(c,Demand[c],model.dmd[n](),model.dual[model.dmd[n]]))\n",
        "else:\n",
        "    print(\"No Valid Solution Found\")"
      ]
    },
    {
      "cell_type": "markdown",
      "metadata": {
        "id": "kK5peVBmmaCC",
        "nbpages": {
          "level": 3,
          "link": "[3.1.5.2 Analysis by customer](https://jckantor.github.io/ND-Pyomo-Cookbook/03.01-Transportation-Networks.html#3.1.5.2-Analysis-by-customer)",
          "section": "3.1.5.2 Analysis by customer"
        },
        "pycharm": {}
      },
      "source": [
        "Looking at the demand constraints, we see that all of the required demands have been met by the optimal solution.\n",
        "\n",
        "The marginal values of these constraints indicate how much the total transportation costs will increase if there is an additional ton of demand at any of the locations. In particular, note that increasing the demand at Berlin will increase costs by 2.7 Euros per ton. This is actually **greater** than the list price for shipping to Berlin which is 2.5 Euros per ton.  Why is this?\n",
        "\n",
        "To see what's going on, let's resolve the problem with a one ton increase in the demand at Berlin.\n",
        "\n",
        "We see the total cost has increased from 1715.0 to 1717.7 Euros, an increase of 2.7 Euros just as predicted by the marginal value assocated with the demand constraint for Berlin.\n",
        "\n",
        "Now let's look at the solution.\n",
        "\n",
        "Here we see that increasing the demand in Berlin resulted in a number of other changes. This figure shows the changes shipments.\n",
        "\n",
        "![TransportNet_sens.png](https://github.com/jckantor/ND-Pyomo-Cookbook/blob/master/notebooks/figures/TransportNet_sens.png?raw=1)\n",
        "\n",
        "* Shipments to Berlin increased from 175 to 176 tons, increasing costs for that link from 437.5 to 440.0, or a net increase of 2.5 Euros.\n",
        "* Since Arnhem is operating at full capacity, increasing the shipments from Arnhem to Berlin resulted in decreasing the shipments from Arhhem to Utrecht from 150 to 149 reducing those shipping costs from 120.0 to 119.2, a net decrease of 0.8 Euros.\n",
        "* To meet demand at Utrecht, shipments from Gouda to Utrecht had to increase from 75 to 76, increasing shipping costs by a net amount of 1.0 Euros.\n",
        "* The net effect on shipping costs is 2.5 - 0.8 + 1.0 = 2.7 Euros.\n",
        "\n",
        "The important conclusion to draw is that when operating under optimal conditions, a change in demand or supply can have a ripple effect on the optimal solution that can only be measured through a proper sensitivity analysis."
      ]
    },
    {
      "cell_type": "markdown",
      "metadata": {
        "id": "Y1uwO5damaCD",
        "nbpages": {
          "level": 2,
          "link": "[3.1.6 Exercises](https://jckantor.github.io/ND-Pyomo-Cookbook/03.01-Transportation-Networks.html#3.1.6-Exercises)",
          "section": "3.1.6 Exercises"
        },
        "pycharm": {}
      },
      "source": [
        "## 3.1.6 Exercises\n",
        "\n",
        "1. Move 50 tons of supply capacity from Gouda to Arnhem, and repeat the sensitivity analysis. How has the situation improved?  In practice, would you recommend this change, or would you propose something different?\n",
        "2. What other business improvements would you recommend?"
      ]
    },
    {
      "cell_type": "markdown",
      "source": [
        "Indeed, this change let minimize lost estimated or posible price of bad transportations. \n",
        "I highly recomend looking change capacity from Gouda and Arnhem, for others."
      ],
      "metadata": {
        "id": "tN8FypC45FSZ"
      }
    },
    {
      "cell_type": "code",
      "execution_count": 15,
      "metadata": {
        "id": "Ku2mzo0CmaCD",
        "nbpages": {
          "level": 2,
          "link": "[3.1.6 Exercises](https://jckantor.github.io/ND-Pyomo-Cookbook/03.01-Transportation-Networks.html#3.1.6-Exercises)",
          "section": "3.1.6 Exercises"
        },
        "pycharm": {},
        "colab": {
          "base_uri": "https://localhost:8080/"
        },
        "outputId": "95c5d11c-ec32-48d0-cfcc-db517973fd7b"
      },
      "outputs": [
        {
          "output_type": "stream",
          "name": "stdout",
          "text": [
            "\n",
            "Sources:\n",
            "Source      Capacity   Shipped    Margin\n",
            "Arn            650.0     625.0    0.0000\n",
            "Gou            600.0     575.0    0.0000\n"
          ]
        }
      ],
      "source": [
        "if 'ok' == str(results.Solver.status):\n",
        "    print(\"\\nSources:\")\n",
        "    print(\"Source      Capacity   Shipped    Margin\")\n",
        "    for m in model.src.keys():\n",
        "        s = SRC[m-1]\n",
        "        print(\"{0:10s}{1:10.1f}{2:10.1f}{3:10.4f}\".format(s,Supply[s],model.src[m](),model.dual[model.src[m]]))\n",
        "else:\n",
        "    print(\"No Valid Solution Found\")"
      ]
    },
    {
      "cell_type": "markdown",
      "metadata": {
        "id": "cERBozVR5qSP",
        "nbpages": {
          "level": 2,
          "link": "[3.1.6 Exercises](https://jckantor.github.io/ND-Pyomo-Cookbook/03.01-Transportation-Networks.html#3.1.6-Exercises)",
          "section": "3.1.6 Exercises"
        },
        "pycharm": {}
      },
      "source": [
        "<!--NAVIGATION-->\n",
        "< [3.0 Assignment Problems](https://jckantor.github.io/ND-Pyomo-Cookbook/03.00-Assignment-Problems.html) | [Contents](toc.html) | [Tag Index](tag_index.html) | [4.0 Scheduling with Disjunctive Constraints](https://jckantor.github.io/ND-Pyomo-Cookbook/04.00-Scheduling-with-Disjunctive-Constraints.html) ><p><a href=\"https://colab.research.google.com/github/jckantor/ND-Pyomo-Cookbook/blob/master/docs/03.01-Transportation-Networks.ipynb\"> <img align=\"left\" src=\"https://colab.research.google.com/assets/colab-badge.svg\" alt=\"Open in Colab\" title=\"Open in Google Colaboratory\"></a><p><a href=\"https://jckantor.github.io/ND-Pyomo-Cookbook/03.01-Transportation-Networks.ipynb\"> <img align=\"left\" src=\"https://img.shields.io/badge/Github-Download-blue.svg\" alt=\"Download\" title=\"Download Notebook\"></a>"
      ]
    }
  ],
  "metadata": {
    "colab": {
      "collapsed_sections": [],
      "name": "Transportation-Networks.ipynb",
      "provenance": [],
      "toc_visible": true
    },
    "kernelspec": {
      "display_name": "Python 3",
      "language": "python",
      "name": "python3"
    },
    "language_info": {
      "codemirror_mode": {
        "name": "ipython",
        "version": 3
      },
      "file_extension": ".py",
      "mimetype": "text/x-python",
      "name": "python",
      "nbconvert_exporter": "python",
      "pygments_lexer": "ipython3",
      "version": "3.7.3"
    }
  },
  "nbformat": 4,
  "nbformat_minor": 0
}