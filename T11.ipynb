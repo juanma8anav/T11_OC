{
  "nbformat": 4,
  "nbformat_minor": 0,
  "metadata": {
    "colab": {
      "name": "T11.ipynb",
      "provenance": [],
      "collapsed_sections": []
    },
    "kernelspec": {
      "name": "python3",
      "display_name": "Python 3"
    },
    "language_info": {
      "name": "python"
    }
  },
  "cells": [
    {
      "cell_type": "markdown",
      "source": [
        "![Western_Institute_of_Technology_and_Higher_Education_logo (1).png](data:image/png;base64,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)\n",
        "\n",
        "## Tarea 11: PYOMO\n",
        "# Zurisadai Velazquez Manzanero\n",
        "# Juan Mario Ochoa Navarro"
      ],
      "metadata": {
        "id": "Jy9aYsrVC86U"
      }
    },
    {
      "cell_type": "markdown",
      "source": [
        "# The Diet Problem\n",
        "\n",
        "## Summary\n",
        "The goal of the Diet Problem is to select foods that satisfy daily nutritional requirements at minimum cost. This problem can be formulated as a linear program, for which constraints limit the number of calories and the amount of vitamins, minerals, fats, sodium, and cholesterol in the diet. Danzig (1990) notes that the diet problem was motivated by the US Army's desire to minimize the cost of feeding GIs in the field while still providing a healthy diet.\n",
        "\n",
        "## Problem Statement\n",
        "The Diet Problem can be formulated mathematically as a linear programming problem using the following model.\n",
        "\n",
        "## Sets\n",
        "F = set of foods\n",
        "N = set of nutrients\n",
        "\n",
        "## Parameters\n",
        "ci = cost per serving of food i, ∀i∈F\n",
        "\n",
        "aij = amount of nutrient j in food i, ∀i∈F,∀j∈N\n",
        "\n",
        "Nminj = minimum level of nutrient j, ∀j∈N\n",
        "\n",
        "Nmaxj = maximum level of nutrient j, ∀j∈N\n",
        "\n",
        "Vi = the volume per serving of food i, ∀i∈F\n",
        "\n",
        "Vmax = maximum volume of food consumed\n",
        "\n",
        "## Variables\n",
        "xi = number of servings of food i to consume\n",
        "\n",
        "## Objective\n",
        "Minimize the total cost of the food\n",
        "min∑i∈Fcixi\n",
        "## Constraints\n",
        "Limit nutrient consumption for each nutrient j∈N.\n",
        "\n",
        "Nminj≤∑i∈Faijxi≤Nmaxj, ∀j∈N\n",
        "\n",
        "Limit the volume of food consumed\n",
        "\n",
        "∑i∈FVixi≤Vmax\n",
        "\n",
        "Consumption lower bound\n",
        "\n",
        "xi≥0, ∀i∈F\n",
        "\n",
        "## Pyomo Formulation\n",
        "We begin by importing the Pyomo package and creating a model object:"
      ],
      "metadata": {
        "id": "a3OO2og8TnHP"
      }
    },
    {
      "cell_type": "markdown",
      "source": [
        "# Sección nueva"
      ],
      "metadata": {
        "id": "KVylzZXzzsbC"
      }
    },
    {
      "cell_type": "markdown",
      "source": [
        "\n",
        "\n",
        "> Eingerückter The sets F and N are declared abstractly using the Set component:\n",
        "\n"
      ],
      "metadata": {
        "id": "r-BJ1WKlTi5g"
      }
    },
    {
      "cell_type": "code",
      "source": [
        "# Foods\n",
        "model.F = Set()\n",
        "# Nutrients\n",
        "model.N = Set()"
      ],
      "metadata": {
        "id": "vrXv4zDWTyqA"
      },
      "execution_count": null,
      "outputs": []
    },
    {
      "cell_type": "markdown",
      "source": [
        "Similarly, the model parameters are defined abstractly using the Param component:\n"
      ],
      "metadata": {
        "id": "ah7_3NB0Vkh_"
      }
    },
    {
      "cell_type": "code",
      "source": [
        "# Cost of each food\n",
        "model.c    = Param(model.F, within=PositiveReals)\n",
        "# Amount of nutrient in each food\n",
        "model.a    = Param(model.F, model.N, within=NonNegativeReals)\n",
        "# Lower and upper bound on each nutrient\n",
        "model.Nmin = Param(model.N, within=NonNegativeReals, default=0.0)\n",
        "model.Nmax = Param(model.N, within=NonNegativeReals, default=infinity)\n",
        "# Volume per serving of food\n",
        "model.V    = Param(model.F, within=PositiveReals)\n",
        "# Maximum volume of food consumed\n",
        "model.Vmax = Param(within=PositiveReals)"
      ],
      "metadata": {
        "id": "2saqxIvLVsEg"
      },
      "execution_count": null,
      "outputs": []
    },
    {
      "cell_type": "markdown",
      "source": [
        "The within option is used in these parameter declarations to define expected properties of the parameters. This information is used to perform error checks on the data that is used to initialize the parameter components.\n",
        "\n",
        "The Var component is used to define the decision variables:"
      ],
      "metadata": {
        "id": "hRsQjrhtVpy8"
      }
    },
    {
      "cell_type": "code",
      "source": [
        "\n",
        "# Number of servings consumed of each food\n",
        "model.x = Var(model.F, within=NonNegativeIntegers)"
      ],
      "metadata": {
        "id": "ViUujXa_Virp"
      },
      "execution_count": null,
      "outputs": []
    },
    {
      "cell_type": "markdown",
      "source": [
        "The within option is used to restrict the domain of the decision variables to the non-negative reals. This eliminates the need for explicit bound constraints for variables.\n",
        "\n",
        "The Objective component is used to define the cost objective. This component uses a rule function to construct the objective expression:"
      ],
      "metadata": {
        "id": "8qumecDnWR2J"
      }
    },
    {
      "cell_type": "code",
      "source": [
        "# Minimize the cost of food that is consumed\n",
        "def cost_rule(model):\n",
        "    return sum(model.c[i]*model.x[i] for i in model.F)\n",
        "model.cost = Objective(rule=cost_rule)"
      ],
      "metadata": {
        "id": "BNWsLAA1WQOj"
      },
      "execution_count": null,
      "outputs": []
    },
    {
      "cell_type": "markdown",
      "source": [
        "Similarly, rule functions are used to define constraint expressions in the Constraint component:\n",
        "\n"
      ],
      "metadata": {
        "id": "_p0eneWFWcsR"
      }
    },
    {
      "cell_type": "code",
      "source": [
        "# Limit nutrient consumption for each nutrient\n",
        "def nutrient_rule(model, j):\n",
        "    value = sum(model.a[i,j]*model.x[i] for i in model.F)\n",
        "    return inequality(model.Nmin[j], value, model.Nmax[j])\n",
        "model.nutrient_limit = Constraint(model.N, rule=nutrient_rule)\n",
        "\n",
        "# Limit the volume of food consumed\n",
        "def volume_rule(model):\n",
        "    return sum(model.V[i]*model.x[i] for i in model.F) <= model.Vmax\n",
        "model.volume = Constraint(rule=volume_rule)"
      ],
      "metadata": {
        "id": "SIbrKwaDWaLX"
      },
      "execution_count": null,
      "outputs": []
    },
    {
      "cell_type": "markdown",
      "source": [
        "Putting these declarations all together gives the following model:\n",
        "\n"
      ],
      "metadata": {
        "id": "Z06DUOPwWkjz"
      }
    },
    {
      "cell_type": "code",
      "source": [
        "!cat diet.py"
      ],
      "metadata": {
        "colab": {
          "base_uri": "https://localhost:8080/"
        },
        "id": "GnYE6g5gWkAl",
        "outputId": "a1839b1d-2e63-46bd-851c-3688337752b9"
      },
      "execution_count": null,
      "outputs": [
        {
          "output_type": "stream",
          "name": "stdout",
          "text": [
            "from pyomo.environ import *\r\n",
            "infinity = float('inf')\r\n",
            "\r\n",
            "model = AbstractModel()\r\n",
            "\r\n",
            "# Foods\r\n",
            "model.F = Set()\r\n",
            "# Nutrients\r\n",
            "model.N = Set()\r\n",
            "\r\n",
            "# Cost of each food\r\n",
            "model.c    = Param(model.F, within=PositiveReals)\r\n",
            "# Amount of nutrient in each food\r\n",
            "model.a    = Param(model.F, model.N, within=NonNegativeReals)\r\n",
            "# Lower and upper bound on each nutrient\r\n",
            "model.Nmin = Param(model.N, within=NonNegativeReals, default=0.0)\r\n",
            "model.Nmax = Param(model.N, within=NonNegativeReals, default=infinity)\r\n",
            "# Volume per serving of food\r\n",
            "model.V    = Param(model.F, within=PositiveReals)\r\n",
            "# Maximum volume of food consumed\r\n",
            "model.Vmax = Param(within=PositiveReals)\r\n",
            "\r\n",
            "# Number of servings consumed of each food\r\n",
            "model.x = Var(model.F, within=NonNegativeIntegers)\r\n",
            "\r\n",
            "# Minimize the cost of food that is consumed\r\n",
            "def cost_rule(model):\r\n",
            "    return sum(model.c[i]*model.x[i] for i in model.F)\r\n",
            "model.cost = Objective(rule=cost_rule)\r\n",
            "\r\n",
            "# Limit nutrient consumption for each nutrient\r\n",
            "def nutrient_rule(model, j):\r\n",
            "    value = sum(model.a[i,j]*model.x[i] for i in model.F)\r\n",
            "    return inequality(model.Nmin[j], value, model.Nmax[j])\r\n",
            "model.nutrient_limit = Constraint(model.N, rule=nutrient_rule)\r\n",
            "\r\n",
            "# Limit the volume of food consumed\r\n",
            "def volume_rule(model):\r\n",
            "    return sum(model.V[i]*model.x[i] for i in model.F) <= model.Vmax\r\n",
            "model.volume = Constraint(rule=volume_rule)"
          ]
        }
      ]
    },
    {
      "cell_type": "markdown",
      "source": [
        "## Model Data\n",
        "\n",
        "Since this is an abstract Pyomo model, the set and parameter values need to be provided to initialize the model. The following data command file provides a synthetic data set:"
      ],
      "metadata": {
        "id": "ZVvuZyFIWmNJ"
      }
    },
    {
      "cell_type": "code",
      "source": [
        "!cat diet.dat\n"
      ],
      "metadata": {
        "colab": {
          "base_uri": "https://localhost:8080/"
        },
        "id": "590HlJIe3DHv",
        "outputId": "5af628b9-f1a4-4ea3-e3d7-5f70dc040bc1"
      },
      "execution_count": null,
      "outputs": [
        {
          "output_type": "stream",
          "name": "stdout",
          "text": [
            "cat: diet.dat: No such file or directory\n"
          ]
        }
      ]
    },
    {
      "cell_type": "markdown",
      "source": [
        "Set data is defined with the set command, and parameter data is defined with the param command.\n",
        "\n",
        "This data set considers the problem of designing a daily diet with only food from a fast food chain.\n",
        "\n",
        "## Solution\n",
        "Pyomo includes a pyomo command that automates the construction and optimization of models. The GLPK solver can be used in this simple example:"
      ],
      "metadata": {
        "id": "EC4o2Axw3IsT"
      }
    },
    {
      "cell_type": "code",
      "source": [
        "!pyomo solve --solver=glpk diet.py diet.dat\n"
      ],
      "metadata": {
        "colab": {
          "base_uri": "https://localhost:8080/"
        },
        "id": "yf472yK63Ptd",
        "outputId": "45e528de-783c-4164-9d8c-1b2a1b0ed756"
      },
      "execution_count": null,
      "outputs": [
        {
          "output_type": "stream",
          "name": "stdout",
          "text": [
            "[    0.00] Setting up Pyomo environment\n",
            "[    0.00] Applying Pyomo preprocessing actions\n",
            "[    0.00] Pyomo Finished\n",
            "ERROR: Unexpected exception while running model:\n",
            "        File diet.py does not exist!\n"
          ]
        }
      ]
    },
    {
      "cell_type": "code",
      "source": [
        "!cat results.yml\n"
      ],
      "metadata": {
        "colab": {
          "base_uri": "https://localhost:8080/"
        },
        "id": "Y2u36Tvz3XOF",
        "outputId": "2fa50e8d-3f48-406b-de0d-e239e8907d01"
      },
      "execution_count": null,
      "outputs": [
        {
          "output_type": "stream",
          "name": "stdout",
          "text": [
            "cat: results.yml: No such file or directory\n"
          ]
        }
      ]
    },
    {
      "cell_type": "markdown",
      "source": [
        "## Max Flow\n",
        "\n",
        "# Summary\n",
        "The goal of the maximum flow problem is to find the maximum flow possible in a network from some given source node to a given sink node. Applications of the max flow problem include finding the maximum flow of orders through a job shop, the maximum flow of water through a storm sewer system, and the maximum flow of product through a product distribution system, among others. Schrijver (2002) note that the maximum flow problem was first formulated in 1954 by T. E. Harris and F. S. Ross as a simplified model of Soviet railway traffic flow.\n",
        "\n",
        "A network is a directed graph, and the arc capacities, or upper bounds, are the only relevant parameters. A network graph does not have to be symmetric: if an arc (v,w) is in the graph, the reverse arc (w,v) does not have to be in the graph. Further, parallel arcs are not allowed, and self-loops are not allowed. The source and the sink are distinct nodes in the network, but the sink may be unreachable from the source.\n",
        "\n",
        "## Problem Statement\n",
        "The max flow problem can be formulated mathematically as a linear programming problem using the following model.\n",
        "\n",
        "## Sets\n",
        "N = nodes in the network\n",
        "A = network arcs\n",
        "\n",
        "## Parameters\n",
        "s = source node\n",
        "t = sink node\n",
        "cij = arc flow capacity, ∀(i,j)∈A\n",
        "## Variables\n",
        "fi,j = arc flow, ∀(i,j)∈A\n",
        "## Objective\n",
        "Maximize the flow into the sink nodes\n",
        "max∑{i∣(i,t)∈A}ci,tfi,t\n",
        "## Constraints\n",
        "Enforce an upper limit on the flow across each arc\n",
        "fi,j≤ci,j, ∀(i,j)∈A\n",
        "Enforce flow through each node\n",
        "∑{i∣(i,j)∈A}fi,j=∑{i∣(j,i)∈A}fj,i, ∀j∈N−{s,t}\n",
        "Flow lower bound\n",
        "fi,j≥0, ∀(i,j)∈A\n",
        "## Pyomo Formulation\n",
        "We begin by importing the Pyomo package and creating a model object:"
      ],
      "metadata": {
        "id": "DBdejtvZYvMl"
      }
    },
    {
      "cell_type": "code",
      "source": [
        "from pyomo.environ import *\n",
        "\n",
        "model = AbstractModel()"
      ],
      "metadata": {
        "id": "hc4YGn0sWiSx"
      },
      "execution_count": null,
      "outputs": []
    },
    {
      "cell_type": "markdown",
      "source": [
        "The sets N and A are declared abstractly using the Set component:"
      ],
      "metadata": {
        "id": "IuEdU6WiZlfT"
      }
    },
    {
      "cell_type": "code",
      "source": [
        "# Nodes in the network\n",
        "model.N = Set()\n",
        "# Network arcs\n",
        "model.A = Set(within=model.N*model.N)"
      ],
      "metadata": {
        "id": "uo29o5RhZkyK"
      },
      "execution_count": null,
      "outputs": []
    },
    {
      "cell_type": "markdown",
      "source": [
        "Similarly, the model parameters are defined abstractly using the Param component:\n",
        "\n"
      ],
      "metadata": {
        "id": "Luq1JJeiZsjP"
      }
    },
    {
      "cell_type": "code",
      "source": [
        "# Source node\n",
        "model.s = Param(within=model.N)\n",
        "# Sink node\n",
        "model.t = Param(within=model.N)\n",
        "# Flow capacity limits\n",
        "model.c = Param(model.A)"
      ],
      "metadata": {
        "id": "XxXfZaOQZrKR"
      },
      "execution_count": null,
      "outputs": []
    },
    {
      "cell_type": "markdown",
      "source": [
        "The within option is used in these parameter declarations to define expected properties of the parameters. This information is used to perform error checks on the data that is used to initialize the parameter components.\n",
        "\n",
        "The Var component is used to define the decision variables:"
      ],
      "metadata": {
        "id": "PCgVJ72hZsIr"
      }
    },
    {
      "cell_type": "code",
      "source": [
        "# The flow over each arc\n",
        "model.f = Var(model.A, within=NonNegativeReals)"
      ],
      "metadata": {
        "id": "u-TeUiEGZ0TX"
      },
      "execution_count": null,
      "outputs": []
    },
    {
      "cell_type": "markdown",
      "source": [
        "The within option is used to restrict the domain of the decision variables to the non-negative reals. This eliminates the need for explicit bound constraints for variables.\n",
        "\n",
        "The Objective component is used to define the cost objective. This component uses a rule function to construct the objective expression:"
      ],
      "metadata": {
        "id": "eOlAjYlYZ3cL"
      }
    },
    {
      "cell_type": "code",
      "source": [
        "# Maximize the flow into the sink nodes\n",
        "def total_rule(model):\n",
        "    return sum(model.f[i,j] for (i, j) in model.A if j == value(model.t))\n",
        "model.total = Objective(rule=total_rule, sense=maximize)"
      ],
      "metadata": {
        "id": "YeY_7nf2Z2Yc"
      },
      "execution_count": null,
      "outputs": []
    },
    {
      "cell_type": "markdown",
      "source": [
        "Similarly, rule functions are used to define constraint expressions in the Constraint component:\n",
        "\n",
        "\n"
      ],
      "metadata": {
        "id": "ffWlAfgyZ4lY"
      }
    },
    {
      "cell_type": "code",
      "source": [
        "# Enforce an upper limit on the flow across each arc\n",
        "def limit_rule(model, i, j):\n",
        "    return model.f[i,j] <= model.c[i, j]\n",
        "model.limit = Constraint(model.A, rule=limit_rule)\n",
        "\n",
        "# Enforce flow through each node\n",
        "def flow_rule(model, k):\n",
        "    if k == value(model.s) or k == value(model.t):\n",
        "        return Constraint.Skip\n",
        "    inFlow  = sum(model.f[i,j] for (i,j) in model.A if j == k)\n",
        "    outFlow = sum(model.f[i,j] for (i,j) in model.A if i == k)\n",
        "    return inFlow == outFlow\n",
        "model.flow = Constraint(model.N, rule=flow_rule)"
      ],
      "metadata": {
        "id": "oiOF01HGaCkT"
      },
      "execution_count": null,
      "outputs": []
    },
    {
      "cell_type": "markdown",
      "source": [
        "Putting these declarations all together gives the following model:\n",
        "\n"
      ],
      "metadata": {
        "id": "OLjaXhLlaF8r"
      }
    },
    {
      "cell_type": "code",
      "source": [
        "!cat maxflow.py\n"
      ],
      "metadata": {
        "colab": {
          "base_uri": "https://localhost:8080/"
        },
        "id": "dWj_xmevaEoR",
        "outputId": "9c241859-5c59-4c04-8061-3736b4060ed4"
      },
      "execution_count": 36,
      "outputs": [
        {
          "output_type": "stream",
          "name": "stdout",
          "text": [
            "from pyomo.environ import *\r\n",
            "\r\n",
            "model = AbstractModel()\r\n",
            "\r\n",
            "# Nodes in the network\r\n",
            "model.N = Set()\r\n",
            "# Network arcs\r\n",
            "model.A = Set(within=model.N*model.N)\r\n",
            "\r\n",
            "# Source node\r\n",
            "model.s = Param(within=model.N)\r\n",
            "# Sink node\r\n",
            "model.t = Param(within=model.N)\r\n",
            "# Flow capacity limits\r\n",
            "model.c = Param(model.A)\r\n",
            "\r\n",
            "# The flow over each arc\r\n",
            "model.f = Var(model.A, within=NonNegativeReals)\r\n",
            "\r\n",
            "# Maximize the flow into the sink nodes\r\n",
            "def total_rule(model):\r\n",
            "    return sum(model.f[i,j] for (i, j) in model.A if j == value(model.t))\r\n",
            "model.total = Objective(rule=total_rule, sense=maximize)\r\n",
            "\r\n",
            "# Enforce an upper limit on the flow across each arc\r\n",
            "def limit_rule(model, i, j):\r\n",
            "    return model.f[i,j] <= model.c[i, j]\r\n",
            "model.limit = Constraint(model.A, rule=limit_rule)\r\n",
            "\r\n",
            "# Enforce flow through each node\r\n",
            "def flow_rule(model, k):\r\n",
            "    if k == value(model.s) or k == value(model.t):\r\n",
            "        return Constraint.Skip\r\n",
            "    inFlow  = sum(model.f[i,j] for (i,j) in model.A if j == k)\r\n",
            "    outFlow = sum(model.f[i,j] for (i,j) in model.A if i == k)\r\n",
            "    return inFlow == outFlow\r\n",
            "model.flow = Constraint(model.N, rule=flow_rule)"
          ]
        }
      ]
    },
    {
      "cell_type": "markdown",
      "source": [
        "//////////////////////////////////////////////////////////////////////////////////////"
      ],
      "metadata": {
        "id": "tn92P3AtaG_j"
      }
    },
    {
      "cell_type": "markdown",
      "source": [
        "## The p-Median Problem\n",
        "# Summary\n",
        "The goal of the p-median problem is to locating p facilities to minimize the demand weighted average distance between demand nodes and the nearest of the selected facilities. Hakimi (1964, 1965) first considered this problem for the design of network switch centers. However, this problem has been used to model a wide range of applications, such as warehouse location, depot location, school districting and sensor placement.\n",
        "\n",
        "# Problem Statement\n",
        "The p-median problem can be formulated mathematically as an integer programming problem using the following model.\n",
        "\n",
        "# Sets\n",
        "M = set of candidate locations\n",
        "N = set of customer demand nodes\n",
        "\n",
        "# Parameters\n",
        "p = number of facilities to locate\n",
        "dj = demand of customer j, ∀j∈N\n",
        "cij = unit cost of satisfying customer j from facility i, ∀i∈M,∀j∈N\n",
        "# Variables\n",
        "xij = fraction of the demand of customer j that is supplied by facility i, ∀i∈M,∀j∈N\n",
        "yi = a binary value that is 1 is a facility is located at location i, ∀i∈M\n",
        "# Objective\n",
        "Minimize the demand-weighted total cost\n",
        "min∑i∈M∑j∈Ndjcijxij\n",
        "# Constraints\n",
        "All of the demand for customer j must be satisfied\n",
        "∑i∈Mxij=1, ∀j∈N\n",
        "Exactly p facilities are located\n",
        "∑i∈Myi=p\n",
        "Demand nodes can only be assigned to open facilities\n",
        "xij≤yi, ∀i∈M,∀j∈N\n",
        "The assignment variables must be non-negative\n",
        "xij≥0, ∀i∈M,∀j∈N\n",
        "# Pyomo Formulation\n",
        "The following is an abstract Pyomo model for this problem:"
      ],
      "metadata": {
        "id": "iHEs08aefbeY"
      }
    },
    {
      "cell_type": "code",
      "source": [
        "!cat p-median.py\n"
      ],
      "metadata": {
        "id": "EdIPxoXRfT3g",
        "colab": {
          "base_uri": "https://localhost:8080/"
        },
        "outputId": "185d149e-ebb4-4364-d90c-4fec8514d4ee"
      },
      "execution_count": 37,
      "outputs": [
        {
          "output_type": "stream",
          "name": "stdout",
          "text": [
            "from pyomo.environ import *\r\n",
            "import random\r\n",
            "\r\n",
            "random.seed(1000)\r\n",
            "\r\n",
            "model = AbstractModel()\r\n",
            "\r\n",
            "# Number of candidate locations\r\n",
            "model.m = Param(within=PositiveIntegers)\r\n",
            "# Number of customers\r\n",
            "model.n = Param(within=PositiveIntegers)\r\n",
            "# Set of candidate locations\r\n",
            "model.M = RangeSet(1,model.m)\r\n",
            "# Set of customer nodes\r\n",
            "model.N = RangeSet(1,model.n)\r\n",
            "\r\n",
            "# Number of facilities\r\n",
            "model.p = Param(within=RangeSet(1,model.n))\r\n",
            "# d[j] - demand of customer j\r\n",
            "model.d = Param(model.N, default=1.0)\r\n",
            "# c[i,j] - unit cost of satisfying customer j from facility i\r\n",
            "model.c = Param(model.M, model.N, initialize=lambda i, j, model : random.uniform(1.0,2.0), within=Reals)\r\n",
            "\r\n",
            "# x[i,j] - fraction of the demand of customer j that is supplied by facility i\r\n",
            "model.x = Var(model.M, model.N, bounds=(0.0,1.0))\r\n",
            "# y[i] - a binary value that is 1 is a facility is located at location i\r\n",
            "model.y = Var(model.M, within=Binary)\r\n",
            "\r\n",
            "# Minimize the demand-weighted total cost\r\n",
            "def cost_(model):\r\n",
            "    return sum(model.d[j]*model.c[i,j]*model.x[i,j] for i in model.M for j in model.N)\r\n",
            "model.cost = Objective(rule=cost_)\r\n",
            "\r\n",
            "# All of the demand for customer j must be satisfied\r\n",
            "def demand_(model, j):\r\n",
            "    return sum(model.x[i,j] for i in model.M) == 1.0\r\n",
            "model.demand = Constraint(model.N, rule=demand_)\r\n",
            "\r\n",
            "# Exactly p facilities are located\r\n",
            "def facilities_(model):\r\n",
            "    return sum(model.y[i] for i in model.M) == model.p\r\n",
            "model.facilities = Constraint(rule=facilities_)\r\n",
            "\r\n",
            "# Demand nodes can only be assigned to open facilities \r\n",
            "def openfac_(model, i, j):\r\n",
            "    return model.x[i,j] <= model.y[i]\r\n",
            "model.openfac = Constraint(model.M, model.N, rule=openfac_)"
          ]
        }
      ]
    },
    {
      "cell_type": "markdown",
      "source": [
        "//////////////////////////////////////////////////////////////"
      ],
      "metadata": {
        "id": "hS4pJZMFvtoJ"
      }
    },
    {
      "cell_type": "markdown",
      "source": [
        "# The Transport Problem\n",
        "# Summary\n",
        "The goal of the Transport Problem is to select the quantities of an homogeneous good that has several production plants and several punctiform markets as to minimise the transportation costs.\n",
        "\n",
        "It is the default tutorial for the GAMS language, and GAMS equivalent code is inserted as single-dash comments. The original GAMS code needs slighly different ordering of the commands and it's available at http://www.gams.com/mccarl/trnsport.gms.\n",
        "\n",
        "# Problem Statement\n",
        "The Transport Problem can be formulated mathematically as a linear programming problem using the following model.\n",
        "\n",
        "# Sets\n",
        "I = set of canning plants\n",
        "J = set of markets\n",
        "\n",
        "# Parameters\n",
        "ai = capacity of plant i in cases, ∀i∈I\n",
        "bj = demand at market j in cases, ∀j∈J\n",
        "di,j = distance in thousands of miles, ∀i∈I,∀j∈J\n",
        "f = freight in dollars per case per thousand miles\n",
        "ci,j = transport cost in thousands of dollars per case\n",
        "\n",
        "ci,j is obtained exougenously to the optimisation problem as ci,j=f⋅di,j, ∀i∈I,∀j∈J\n",
        "# Variables\n",
        "xi,j = shipment quantities in cases\n",
        "z = total transportation costs in thousands of dollars\n",
        "\n",
        "# Obective\n",
        "Minimize the total cost of the shipments:\n",
        "minxz=∑i∈I∑j∈Jci,jxi,j\n",
        "# Constraints\n",
        "Observe supply limit at plant i:\n",
        "∑j∈Jxi,j≤ai, ∀i∈I\n",
        "Satisfy demand at market j:\n",
        "∑i∈Ixi,j≥bj, ∀j∈J\n",
        "Non-negative transportation quantities\n",
        "xi,j≥0, ∀i∈I,∀j∈J\n",
        "# Pyomo Formulation\n",
        "Creation of the Model\n",
        "In pyomo everything is an object. The various components of the model (sets, parameters, variables, constraints, objective..) are all attributes of the main model object while being objects themselves.\n",
        "\n",
        "There are two type of models in pyomo: A ConcreteModel is one where all the data is defined at the model creation. We are going to use this type of model in this tutorial. Pyomo however supports also an AbstractModel, where the model structure is firstly generated and then particular instances of the model are generated with a particular set of data.\n",
        "\n",
        "The first thing to do in the script is to load the pyomo library and create a new ConcreteModel object. We have little imagination here, and we call our model \"model\". You can give it whatever name you want. However, if you give your model an other name, you also need to create a model object at the end of your script:"
      ],
      "metadata": {
        "id": "czukIu2R83W4"
      }
    },
    {
      "cell_type": "code",
      "source": [
        "# Import of the pyomo module\n",
        "from pyomo.environ import *\n",
        " \n",
        "# Creation of a Concrete Model\n",
        "model = ConcreteModel()"
      ],
      "metadata": {
        "id": "rH8QNF5WvuxX"
      },
      "execution_count": 38,
      "outputs": []
    },
    {
      "cell_type": "markdown",
      "source": [
        "# Set Definitions\n",
        "Sets are created as attributes object of the main model objects and all the information is given as parameter in the constructor function. Specifically, we are passing to the constructor the initial elements of the set and a documentation string to keep track on what our set represents:"
      ],
      "metadata": {
        "id": "KnQySEQq9PNg"
      }
    },
    {
      "cell_type": "code",
      "source": [
        "## Define sets ##\n",
        "#  Sets\n",
        "#       i   canning plants   / seattle, san-diego /\n",
        "#       j   markets          / new-york, chicago, topeka / ;\n",
        "model.i = Set(initialize=['seattle','san-diego'], doc='Canning plans')\n",
        "model.j = Set(initialize=['new-york','chicago', 'topeka'], doc='Markets')"
      ],
      "metadata": {
        "id": "HXZBlWcL9OfG"
      },
      "execution_count": 39,
      "outputs": []
    },
    {
      "cell_type": "markdown",
      "source": [
        "# Parameters\n",
        "Parameter objects are created specifying the sets over which they are defined and are initialised with either a python dictionary or a scalar:"
      ],
      "metadata": {
        "id": "FcO3fjND9PsD"
      }
    },
    {
      "cell_type": "code",
      "source": [
        "## Define parameters ##\n",
        "#   Parameters\n",
        "#       a(i)  capacity of plant i in cases\n",
        "#         /    seattle     350\n",
        "#              san-diego   600  /\n",
        "#       b(j)  demand at market j in cases\n",
        "#         /    new-york    325\n",
        "#              chicago     300\n",
        "#              topeka      275  / ;\n",
        "model.a = Param(model.i, initialize={'seattle':350,'san-diego':600}, doc='Capacity of plant i in cases')\n",
        "model.b = Param(model.j, initialize={'new-york':325,'chicago':300,'topeka':275}, doc='Demand at market j in cases')\n",
        "#  Table d(i,j)  distance in thousands of miles\n",
        "#                    new-york       chicago      topeka\n",
        "#      seattle          2.5           1.7          1.8\n",
        "#      san-diego        2.5           1.8          1.4  ;\n",
        "dtab = {\n",
        "    ('seattle',  'new-york') : 2.5,\n",
        "    ('seattle',  'chicago')  : 1.7,\n",
        "    ('seattle',  'topeka')   : 1.8,\n",
        "    ('san-diego','new-york') : 2.5,\n",
        "    ('san-diego','chicago')  : 1.8,\n",
        "    ('san-diego','topeka')   : 1.4,\n",
        "    }\n",
        "model.d = Param(model.i, model.j, initialize=dtab, doc='Distance in thousands of miles')\n",
        "#  Scalar f  freight in dollars per case per thousand miles  /90/ ;\n",
        "model.f = Param(initialize=90, doc='Freight in dollars per case per thousand miles')"
      ],
      "metadata": {
        "id": "1_OgVJSI9bc6"
      },
      "execution_count": 40,
      "outputs": []
    },
    {
      "cell_type": "markdown",
      "source": [
        "A third, powerful way to initialize a parameter is using a user-defined function.\n",
        "\n",
        "This function will be automatically called by pyomo with any possible (i,j) set. In this case pyomo will actually call c_init() six times in order to initialize the model.c parameter."
      ],
      "metadata": {
        "id": "uEBcI53G9hfg"
      }
    },
    {
      "cell_type": "code",
      "source": [
        "#  Parameter c(i,j)  transport cost in thousands of dollars per case ;\n",
        "#            c(i,j) = f * d(i,j) / 1000 ;\n",
        "def c_init(model, i, j):\n",
        "  return model.f * model.d[i,j] / 1000\n",
        "model.c = Param(model.i, model.j, initialize=c_init, doc='Transport cost in thousands of dollar per case')"
      ],
      "metadata": {
        "id": "42yLPkRI9gKR"
      },
      "execution_count": 41,
      "outputs": []
    },
    {
      "cell_type": "markdown",
      "source": [
        "# Variables\n",
        "Similar to parameters, variables are created specifying their domain(s). For variables we can also specify the upper/lower bounds in the constructor.\n",
        "\n",
        "Differently from GAMS, we don't need to define the variable that is on the left hand side of the objective function."
      ],
      "metadata": {
        "id": "TFg5XoJN9iAp"
      }
    },
    {
      "cell_type": "code",
      "source": [
        "## Define variables ##\n",
        "#  Variables\n",
        "#       x(i,j)  shipment quantities in cases\n",
        "#       z       total transportation costs in thousands of dollars ;\n",
        "#  Positive Variable x ;\n",
        "model.x = Var(model.i, model.j, bounds=(0.0,None), doc='Shipment quantities in case')"
      ],
      "metadata": {
        "id": "PikxfqPg9pz3"
      },
      "execution_count": 42,
      "outputs": []
    },
    {
      "cell_type": "markdown",
      "source": [
        "# Constrains\n",
        "At this point, it should not be a surprise that constrains are again defined as model objects with the required information passed as parameter in the constructor function."
      ],
      "metadata": {
        "id": "c7S_Yi0Q9s0G"
      }
    },
    {
      "cell_type": "code",
      "source": [
        "## Define contrains ##\n",
        "# supply(i)   observe supply limit at plant i\n",
        "# supply(i) .. sum (j, x(i,j)) =l= a(i)\n",
        "def supply_rule(model, i):\n",
        "  return sum(model.x[i,j] for j in model.j) <= model.a[i]\n",
        "model.supply = Constraint(model.i, rule=supply_rule, doc='Observe supply limit at plant i')\n",
        "# demand(j)   satisfy demand at market j ;  \n",
        "# demand(j) .. sum(i, x(i,j)) =g= b(j);\n",
        "def demand_rule(model, j):\n",
        "  return sum(model.x[i,j] for i in model.i) >= model.b[j]  \n",
        "model.demand = Constraint(model.j, rule=demand_rule, doc='Satisfy demand at market j')"
      ],
      "metadata": {
        "id": "eKvWwL7A9sIl"
      },
      "execution_count": 43,
      "outputs": []
    },
    {
      "cell_type": "markdown",
      "source": [
        "The above code take advantage of list comprehensions, a powerful feature of the python language that provides a concise way to loop over a list. If we take the supply_rule as example, this is actually called two times by pyomo (once for each of the elements of i). Without list comprehensions we would have had to write our function using a for loop, like:"
      ],
      "metadata": {
        "id": "FXQon8Be9tVe"
      }
    },
    {
      "cell_type": "code",
      "source": [
        "def supply_rule(model, i):\n",
        "  supply = 0.0\n",
        "  for j in model.j:\n",
        "    supply += model.x[i,j]\n",
        "  return supply <= model.a[i]"
      ],
      "metadata": {
        "id": "cq4pBzBz96iY"
      },
      "execution_count": 44,
      "outputs": []
    },
    {
      "cell_type": "markdown",
      "source": [
        "Using list comprehension is however quicker to code and more readable.\n",
        "\n",
        "# Objective and Solving\n",
        "The definition of the objective is similar to those of the constrains, except that most solvers require a scalar objective function, hence a unique function, and we can specify the sense (direction) of the optimisation."
      ],
      "metadata": {
        "id": "ItJMjE6-99d5"
      }
    },
    {
      "cell_type": "code",
      "source": [
        "## Define Objective and solve ##\n",
        "#  cost        define objective function\n",
        "#  cost ..        z  =e=  sum((i,j), c(i,j)*x(i,j)) ;\n",
        "#  Model transport /all/ ;\n",
        "#  Solve transport using lp minimizing z ;\n",
        "def objective_rule(model):\n",
        "  return sum(model.c[i,j]*model.x[i,j] for i in model.i for j in model.j)\n",
        "model.objective = Objective(rule=objective_rule, sense=minimize, doc='Define objective function')"
      ],
      "metadata": {
        "id": "o0uu6Mcl98zI"
      },
      "execution_count": 45,
      "outputs": []
    },
    {
      "cell_type": "markdown",
      "source": [
        "As we are here looping over two distinct sets, we can see how list comprehension really simplifies the code. The objective function could have being written without list comprehension as:"
      ],
      "metadata": {
        "id": "ulRpIEcT9990"
      }
    },
    {
      "cell_type": "code",
      "source": [
        "def objective_rule(model):\n",
        "  obj = 0.0  \n",
        "  for ki in model.i:\n",
        "    for kj in model.j:\n",
        "      obj += model.c[ki,kj]*model.x[ki,kj]\n",
        "  return obj"
      ],
      "metadata": {
        "id": "qsiIm4Ao-Gpy"
      },
      "execution_count": 46,
      "outputs": []
    },
    {
      "cell_type": "markdown",
      "source": [
        "# Retrieving the Output\n",
        "We use the pyomo_postprocess() function to retrieve the output and do something with it. For example, we could display solution values (see below), plot a graph with matplotlib or save it in a csv file.\n",
        "\n",
        "This function is called by pyomo after the solver has finished."
      ],
      "metadata": {
        "id": "MJtRVBOb-J4L"
      }
    },
    {
      "cell_type": "code",
      "source": [
        "## Display of the output ##\n",
        "# Display x.l, x.m ;\n",
        "def pyomo_postprocess(options=None, instance=None, results=None):\n",
        "  model.x.display()"
      ],
      "metadata": {
        "id": "8t4YswDX-JL9"
      },
      "execution_count": 47,
      "outputs": []
    },
    {
      "cell_type": "markdown",
      "source": [
        "We can print model structure information with model.pprint() (“pprint” stand for “pretty print”). Results are also by default saved in a results.json file or, if PyYAML is installed in the system, in results.yml.\n",
        "\n",
        "# Editing and Running the Script\n",
        "Differently from GAMS, you can use whatever editor environment you wish to code a pyomo script. If you don't need debugging features, a simple text editor like Notepad++ (in windows), gedit or kate (in Linux) will suffice. They already have syntax highlight for python.\n",
        "\n",
        "If you want advanced features and debugging capabilities you can use a dedicated Python IDE, like e.g. Spyder.\n",
        "\n",
        "You will normally run the script as pyomo solve –solver=glpk transport.py. You can output solver specific output adding the option –stream-output. If you want to run the script as python transport.py add the following lines at the end:"
      ],
      "metadata": {
        "id": "jdH6Hi1n-KVM"
      }
    },
    {
      "cell_type": "code",
      "source": [
        "# This is an optional code path that allows the script to be run outside of\n",
        "# pyomo command-line.  For example:  python transport.py\n",
        "if __name__ == '__main__':\n",
        "    # This emulates what the pyomo command-line tools does\n",
        "    from pyomo.opt import SolverFactory\n",
        "    import pyomo.environ\n",
        "    opt = SolverFactory(\"glpk\")\n",
        "    results = opt.solve(model)\n",
        "    #sends results to stdout\n",
        "    results.write()\n",
        "    print(\"\\nDisplaying Solution\\n\" + '-'*60)\n",
        "    pyomo_postprocess(None, model, results)"
      ],
      "metadata": {
        "colab": {
          "base_uri": "https://localhost:8080/",
          "height": 414
        },
        "id": "S19U3Hzr-V5_",
        "outputId": "12a5a0e3-81c0-49a5-b6ee-568c029f87fe"
      },
      "execution_count": 52,
      "outputs": [
        {
          "output_type": "stream",
          "name": "stdout",
          "text": [
            "WARNING: Could not locate the 'glpsol' executable, which is required for\n",
            "    solver 'glpk'\n"
          ]
        },
        {
          "output_type": "error",
          "ename": "ApplicationError",
          "evalue": "ignored",
          "traceback": [
            "\u001b[0;31m---------------------------------------------------------------------------\u001b[0m",
            "\u001b[0;31mApplicationError\u001b[0m                          Traceback (most recent call last)",
            "\u001b[0;32m<ipython-input-52-cb12fade1a4a>\u001b[0m in \u001b[0;36m<module>\u001b[0;34m()\u001b[0m\n\u001b[1;32m      6\u001b[0m     \u001b[0;32mimport\u001b[0m \u001b[0mpyomo\u001b[0m\u001b[0;34m.\u001b[0m\u001b[0menviron\u001b[0m\u001b[0;34m\u001b[0m\u001b[0;34m\u001b[0m\u001b[0m\n\u001b[1;32m      7\u001b[0m     \u001b[0mopt\u001b[0m \u001b[0;34m=\u001b[0m \u001b[0mSolverFactory\u001b[0m\u001b[0;34m(\u001b[0m\u001b[0;34m\"glpk\"\u001b[0m\u001b[0;34m)\u001b[0m\u001b[0;34m\u001b[0m\u001b[0;34m\u001b[0m\u001b[0m\n\u001b[0;32m----> 8\u001b[0;31m     \u001b[0mresults\u001b[0m \u001b[0;34m=\u001b[0m \u001b[0mopt\u001b[0m\u001b[0;34m.\u001b[0m\u001b[0msolve\u001b[0m\u001b[0;34m(\u001b[0m\u001b[0mmodel\u001b[0m\u001b[0;34m)\u001b[0m\u001b[0;34m\u001b[0m\u001b[0;34m\u001b[0m\u001b[0m\n\u001b[0m\u001b[1;32m      9\u001b[0m     \u001b[0;31m#sends results to stdout\u001b[0m\u001b[0;34m\u001b[0m\u001b[0;34m\u001b[0m\u001b[0;34m\u001b[0m\u001b[0m\n\u001b[1;32m     10\u001b[0m     \u001b[0mresults\u001b[0m\u001b[0;34m.\u001b[0m\u001b[0mwrite\u001b[0m\u001b[0;34m(\u001b[0m\u001b[0;34m)\u001b[0m\u001b[0;34m\u001b[0m\u001b[0;34m\u001b[0m\u001b[0m\n",
            "\u001b[0;32m/usr/local/lib/python3.7/dist-packages/pyomo/opt/base/solvers.py\u001b[0m in \u001b[0;36msolve\u001b[0;34m(self, *args, **kwds)\u001b[0m\n\u001b[1;32m    510\u001b[0m         \u001b[0;34m\"\"\" Solve the problem \"\"\"\u001b[0m\u001b[0;34m\u001b[0m\u001b[0;34m\u001b[0m\u001b[0m\n\u001b[1;32m    511\u001b[0m \u001b[0;34m\u001b[0m\u001b[0m\n\u001b[0;32m--> 512\u001b[0;31m         \u001b[0mself\u001b[0m\u001b[0;34m.\u001b[0m\u001b[0mavailable\u001b[0m\u001b[0;34m(\u001b[0m\u001b[0mexception_flag\u001b[0m\u001b[0;34m=\u001b[0m\u001b[0;32mTrue\u001b[0m\u001b[0;34m)\u001b[0m\u001b[0;34m\u001b[0m\u001b[0;34m\u001b[0m\u001b[0m\n\u001b[0m\u001b[1;32m    513\u001b[0m         \u001b[0;31m#\u001b[0m\u001b[0;34m\u001b[0m\u001b[0;34m\u001b[0m\u001b[0;34m\u001b[0m\u001b[0m\n\u001b[1;32m    514\u001b[0m         \u001b[0;31m# If the inputs are models, then validate that they have been\u001b[0m\u001b[0;34m\u001b[0m\u001b[0;34m\u001b[0m\u001b[0;34m\u001b[0m\u001b[0m\n",
            "\u001b[0;32m/usr/local/lib/python3.7/dist-packages/pyomo/opt/solver/shellcmd.py\u001b[0m in \u001b[0;36mavailable\u001b[0;34m(self, exception_flag)\u001b[0m\n\u001b[1;32m    126\u001b[0m             \u001b[0;32mif\u001b[0m \u001b[0mexception_flag\u001b[0m\u001b[0;34m:\u001b[0m\u001b[0;34m\u001b[0m\u001b[0;34m\u001b[0m\u001b[0m\n\u001b[1;32m    127\u001b[0m                 \u001b[0mmsg\u001b[0m \u001b[0;34m=\u001b[0m \u001b[0;34m\"No executable found for solver '%s'\"\u001b[0m\u001b[0;34m\u001b[0m\u001b[0;34m\u001b[0m\u001b[0m\n\u001b[0;32m--> 128\u001b[0;31m                 \u001b[0;32mraise\u001b[0m \u001b[0mApplicationError\u001b[0m\u001b[0;34m(\u001b[0m\u001b[0mmsg\u001b[0m \u001b[0;34m%\u001b[0m \u001b[0mself\u001b[0m\u001b[0;34m.\u001b[0m\u001b[0mname\u001b[0m\u001b[0;34m)\u001b[0m\u001b[0;34m\u001b[0m\u001b[0;34m\u001b[0m\u001b[0m\n\u001b[0m\u001b[1;32m    129\u001b[0m             \u001b[0;32mreturn\u001b[0m \u001b[0;32mFalse\u001b[0m\u001b[0;34m\u001b[0m\u001b[0;34m\u001b[0m\u001b[0m\n\u001b[1;32m    130\u001b[0m         \u001b[0;32mreturn\u001b[0m \u001b[0;32mTrue\u001b[0m\u001b[0;34m\u001b[0m\u001b[0;34m\u001b[0m\u001b[0m\n",
            "\u001b[0;31mApplicationError\u001b[0m: No executable found for solver 'glpk'"
          ]
        }
      ]
    },
    {
      "cell_type": "code",
      "source": [
        "!cat transport.py\n"
      ],
      "metadata": {
        "colab": {
          "base_uri": "https://localhost:8080/"
        },
        "id": "rv7_QwEW-X9J",
        "outputId": "7dda5ca7-7930-42e1-cacd-e1ce11a20199"
      },
      "execution_count": 53,
      "outputs": [
        {
          "output_type": "stream",
          "name": "stdout",
          "text": [
            "#!/usr/bin/env python\r\n",
            "# -*- coding: utf-8 -*-\r\n",
            "\r\n",
            "# Import\r\n",
            "from pyomo.environ import *\r\n",
            " \r\n",
            "# Creation of a Concrete Model\r\n",
            "model = ConcreteModel()\r\n",
            " \r\n",
            "## Define sets ##\r\n",
            "#  Sets\r\n",
            "#       i   canning plants   / seattle, san-diego /\r\n",
            "#       j   markets          / new-york, chicago, topeka / ;\r\n",
            "model.i = Set(initialize=['seattle','san-diego'], doc='Canning plans')\r\n",
            "model.j = Set(initialize=['new-york','chicago', 'topeka'], doc='Markets')\r\n",
            " \r\n",
            "## Define parameters ##\r\n",
            "#   Parameters\r\n",
            "#       a(i)  capacity of plant i in cases\r\n",
            "#         /    seattle     350\r\n",
            "#              san-diego   600  /\r\n",
            "#       b(j)  demand at market j in cases\r\n",
            "#         /    new-york    325\r\n",
            "#              chicago     300\r\n",
            "#              topeka      275  / ;\r\n",
            "model.a = Param(model.i, initialize={'seattle':350,'san-diego':600}, doc='Capacity of plant i in cases')\r\n",
            "model.b = Param(model.j, initialize={'new-york':325,'chicago':300,'topeka':275}, doc='Demand at market j in cases')\r\n",
            "#  Table d(i,j)  distance in thousands of miles\r\n",
            "#                    new-york       chicago      topeka\r\n",
            "#      seattle          2.5           1.7          1.8\r\n",
            "#      san-diego        2.5           1.8          1.4  ;\r\n",
            "dtab = {\r\n",
            "    ('seattle',  'new-york') : 2.5,\r\n",
            "    ('seattle',  'chicago')  : 1.7,\r\n",
            "    ('seattle',  'topeka')   : 1.8,\r\n",
            "    ('san-diego','new-york') : 2.5,\r\n",
            "    ('san-diego','chicago')  : 1.8,\r\n",
            "    ('san-diego','topeka')   : 1.4,\r\n",
            "    }\r\n",
            "model.d = Param(model.i, model.j, initialize=dtab, doc='Distance in thousands of miles')\r\n",
            "#  Scalar f  freight in dollars per case per thousand miles  /90/ ;\r\n",
            "model.f = Param(initialize=90, doc='Freight in dollars per case per thousand miles')\r\n",
            "#  Parameter c(i,j)  transport cost in thousands of dollars per case ;\r\n",
            "#            c(i,j) = f * d(i,j) / 1000 ;\r\n",
            "def c_init(model, i, j):\r\n",
            "  return model.f * model.d[i,j] / 1000\r\n",
            "model.c = Param(model.i, model.j, initialize=c_init, doc='Transport cost in thousands of dollar per case')\r\n",
            " \r\n",
            "## Define variables ##\r\n",
            "#  Variables\r\n",
            "#       x(i,j)  shipment quantities in cases\r\n",
            "#       z       total transportation costs in thousands of dollars ;\r\n",
            "#  Positive Variable x ;\r\n",
            "model.x = Var(model.i, model.j, bounds=(0.0,None), doc='Shipment quantities in case')\r\n",
            " \r\n",
            "## Define contrains ##\r\n",
            "# supply(i)   observe supply limit at plant i\r\n",
            "# supply(i) .. sum (j, x(i,j)) =l= a(i)\r\n",
            "def supply_rule(model, i):\r\n",
            "  return sum(model.x[i,j] for j in model.j) <= model.a[i]\r\n",
            "model.supply = Constraint(model.i, rule=supply_rule, doc='Observe supply limit at plant i')\r\n",
            "# demand(j)   satisfy demand at market j ;  \r\n",
            "# demand(j) .. sum(i, x(i,j)) =g= b(j);\r\n",
            "def demand_rule(model, j):\r\n",
            "  return sum(model.x[i,j] for i in model.i) >= model.b[j]  \r\n",
            "model.demand = Constraint(model.j, rule=demand_rule, doc='Satisfy demand at market j')\r\n",
            " \r\n",
            "## Define Objective and solve ##\r\n",
            "#  cost        define objective function\r\n",
            "#  cost ..        z  =e=  sum((i,j), c(i,j)*x(i,j)) ;\r\n",
            "#  Model transport /all/ ;\r\n",
            "#  Solve transport using lp minimizing z ;\r\n",
            "def objective_rule(model):\r\n",
            "  return sum(model.c[i,j]*model.x[i,j] for i in model.i for j in model.j)\r\n",
            "model.objective = Objective(rule=objective_rule, sense=minimize, doc='Define objective function')\r\n",
            " \r\n",
            " \r\n",
            "## Display of the output ##\r\n",
            "# Display x.l, x.m ;\r\n",
            "def pyomo_postprocess(options=None, instance=None, results=None):\r\n",
            "  model.x.display()\r\n",
            " \r\n",
            "# This is an optional code path that allows the script to be run outside of\r\n",
            "# pyomo command-line.  For example:  python transport.py\r\n",
            "if __name__ == '__main__':\r\n",
            "    # This emulates what the pyomo command-line tools does\r\n",
            "    from pyomo.opt import SolverFactory\r\n",
            "    import pyomo.environ\r\n",
            "    opt = SolverFactory(\"glpk\")\r\n",
            "    results = opt.solve(model)\r\n",
            "    #sends results to stdout\r\n",
            "    results.write()\r\n",
            "    print(\"\\nDisplaying Solution\\n\" + '-'*60)\r\n",
            "    pyomo_postprocess(None, model, results)"
          ]
        }
      ]
    },
    {
      "cell_type": "code",
      "source": [
        "!pyomo solve --solver=glpk transport.py\n"
      ],
      "metadata": {
        "colab": {
          "base_uri": "https://localhost:8080/"
        },
        "id": "Oi1CLnoZ-iAJ",
        "outputId": "a824c0fe-0144-4146-b2cc-a73d9ec5b97e"
      },
      "execution_count": 54,
      "outputs": [
        {
          "output_type": "stream",
          "name": "stdout",
          "text": [
            "[    0.00] Setting up Pyomo environment\n",
            "[    0.00] Applying Pyomo preprocessing actions\n",
            "[    0.00] Creating model\n",
            "[    0.00] Applying solver\n",
            "WARNING: Could not locate the 'glpsol' executable, which is required for\n",
            "    solver 'glpk'\n",
            "[    0.01] Pyomo Finished\n",
            "ERROR: Unexpected exception while running model:\n",
            "        No executable found for solver 'glpk'\n"
          ]
        }
      ]
    },
    {
      "cell_type": "markdown",
      "source": [
        "# Min-Cost-Flow"
      ],
      "metadata": {
        "id": "BmF9AoQ6_lq_"
      }
    },
    {
      "cell_type": "code",
      "source": [
        "!cat min_cost_flow.py\n"
      ],
      "metadata": {
        "colab": {
          "base_uri": "https://localhost:8080/"
        },
        "id": "brbuyOhK_Jd7",
        "outputId": "c3e8071a-2f7f-4a2e-97bd-b896f51afde3"
      },
      "execution_count": 56,
      "outputs": [
        {
          "output_type": "stream",
          "name": "stdout",
          "text": [
            "import pyomo\r\n",
            "import pandas\r\n",
            "import pyomo.opt\r\n",
            "import pyomo.environ as pe\r\n",
            "\r\n",
            "class MinCostFlow:\r\n",
            "    \"\"\"This class implements a standard min-cost-flow model.  \r\n",
            "    \r\n",
            "    It takes as input two csv files, providing data for the nodes and the arcs of the network.  The nodes file should have columns:\r\n",
            "    \r\n",
            "    Node, Imbalance\r\n",
            "\r\n",
            "    that specify the node name and the flow imbalance at the node.  The arcs file should have columns:\r\n",
            "\r\n",
            "    Start, End, Cost, UpperBound, LowerBound\r\n",
            "\r\n",
            "    that specify an arc start node, an arc end node, a cost for the arc, and upper and lower bounds for the flow.\"\"\"\r\n",
            "    def __init__(self, nodesfile, arcsfile):\r\n",
            "        \"\"\"Read in the csv data.\"\"\"\r\n",
            "        # Read in the nodes file\r\n",
            "        self.node_data = pandas.read_csv('nodes.csv')\r\n",
            "        self.node_data.set_index(['Node'], inplace=True)\r\n",
            "        self.node_data.sort_index(inplace=True)\r\n",
            "        # Read in the arcs file\r\n",
            "        self.arc_data = pandas.read_csv('arcs.csv')\r\n",
            "        self.arc_data.set_index(['Start','End'], inplace=True)\r\n",
            "        self.arc_data.sort_index(inplace=True)\r\n",
            "\r\n",
            "        self.node_set = self.node_data.index.unique()\r\n",
            "        self.arc_set = self.arc_data.index.unique()\r\n",
            "\r\n",
            "        self.createModel()\r\n",
            "\r\n",
            "    def createModel(self):\r\n",
            "        \"\"\"Create the pyomo model given the csv data.\"\"\"\r\n",
            "        self.m = pe.ConcreteModel()\r\n",
            "\r\n",
            "        # Create sets\r\n",
            "        self.m.node_set = pe.Set( initialize=self.node_set )\r\n",
            "        self.m.arc_set = pe.Set( initialize=self.arc_set , dimen=2)\r\n",
            "\r\n",
            "        # Create variables\r\n",
            "        self.m.Y = pe.Var(self.m.arc_set, domain=pe.NonNegativeReals)\r\n",
            "\r\n",
            "        # Create objective\r\n",
            "        def obj_rule(m):\r\n",
            "            return sum(m.Y[e] * self.arc_data.ix[e,'Cost'] for e in self.arc_set)\r\n",
            "        self.m.OBJ = pe.Objective(rule=obj_rule, sense=pe.minimize)\r\n",
            "        \r\n",
            "        # Flow Ballance rule\r\n",
            "        def flow_bal_rule(m, n):\r\n",
            "            arcs = self.arc_data.reset_index()\r\n",
            "            preds = arcs[ arcs.End == n ]['Start']\r\n",
            "            succs = arcs[ arcs.Start == n ]['End']\r\n",
            "            return sum(m.Y[(p,n)] for p in preds) - sum(m.Y[(n,s)] for s in succs) == self.node_data.ix[n,'Imbalance']\r\n",
            "        self.m.FlowBal = pe.Constraint(self.m.node_set, rule=flow_bal_rule)\r\n",
            "\r\n",
            "        # Upper bounds rule\r\n",
            "        def upper_bounds_rule(m, n1, n2):\r\n",
            "            e = (n1,n2)\r\n",
            "            if self.arc_data.ix[e, 'UpperBound'] < 0:\r\n",
            "                return pe.Constraint.Skip\r\n",
            "            return m.Y[e] <= self.arc_data.ix[e, 'UpperBound']\r\n",
            "        self.m.UpperBound = pe.Constraint(self.m.arc_set, rule=upper_bounds_rule)\r\n",
            "        \r\n",
            "        # Lower bounds rule\r\n",
            "        def lower_bounds_rule(m, n1, n2):\r\n",
            "            e = (n1,n2)\r\n",
            "            if self.arc_data.ix[e, 'LowerBound'] < 0:\r\n",
            "                return pe.Constraint.Skip\r\n",
            "            return m.Y[e] >= self.arc_data.ix[e, 'LowerBound']\r\n",
            "        self.m.LowerBound = pe.Constraint(self.m.arc_set, rule=lower_bounds_rule)\r\n",
            "\r\n",
            "    def solve(self):\r\n",
            "        \"\"\"Solve the model.\"\"\"\r\n",
            "        solver = pyomo.opt.SolverFactory('gurobi')\r\n",
            "        results = solver.solve(self.m, tee=True, keepfiles=False, options_string=\"mip_tolerances_integrality=1e-9 mip_tolerances_mipgap=0\")\r\n",
            "\r\n",
            "        if (results.solver.status != pyomo.opt.SolverStatus.ok):\r\n",
            "            logging.warning('Check solver not ok?')\r\n",
            "        if (results.solver.termination_condition != pyomo.opt.TerminationCondition.optimal):  \r\n",
            "            logging.warning('Check solver optimality?') \r\n",
            "\r\n",
            "\r\n",
            "if __name__ == '__main__':\r\n",
            "       sp = MinCostFlow('nodes.csv', 'arcs.csv') \r\n",
            "       sp.solve()\r\n",
            "       print('\\n\\n---------------------------')\r\n",
            "       print('Cost: ', sp.m.OBJ())"
          ]
        }
      ]
    },
    {
      "cell_type": "markdown",
      "source": [
        "# Row Generation MST"
      ],
      "metadata": {
        "id": "uqbwAYWHAWnn"
      }
    },
    {
      "cell_type": "code",
      "source": [
        "!cat mst.py\n"
      ],
      "metadata": {
        "colab": {
          "base_uri": "https://localhost:8080/"
        },
        "id": "oed-_0lr_ovM",
        "outputId": "c603c927-ad30-4e42-8ee3-de548940e2df"
      },
      "execution_count": 60,
      "outputs": [
        {
          "output_type": "stream",
          "name": "stdout",
          "text": [
            "import pyomo\r\n",
            "import pyomo.opt\r\n",
            "import pyomo.environ as pe\r\n",
            "import pandas\r\n",
            "import networkx\r\n",
            "\r\n",
            "class MSTRowGeneration:\r\n",
            "    \"\"\"A class to find Minimum Spanning Tree using a row-generation algorithm.\"\"\"\r\n",
            "\r\n",
            "    def __init__(self, nfile):\r\n",
            "        \"\"\"The input is a CSV file describing the undirected network's edges.\"\"\"\r\n",
            "        self.df = pandas.read_csv(nfile)\r\n",
            "\r\n",
            "        self.createRelaxedModel()\r\n",
            "\r\n",
            "    def createRelaxedModel(self):\r\n",
            "        \"\"\"Create the relaxed model, without any subtour elimination constraints.\"\"\"\r\n",
            "        df = self.df\r\n",
            "        node_set = set( list( df.startNode ) + list(df.destNode) )\r\n",
            "\r\n",
            "        # Create the model and sets\r\n",
            "        m = pe.ConcreteModel()\r\n",
            "\r\n",
            "        df.set_index(['startNode','destNode'], inplace=True)\r\n",
            "        edge_set = df.index.unique()\r\n",
            "\r\n",
            "        m.edge_set = pe.Set(initialize=edge_set, dimen=2)\r\n",
            "        m.node_set = pe.Set(initialize=node_set)\r\n",
            "    \r\n",
            "        # Define variables\r\n",
            "        m.Y = pe.Var(m.edge_set, domain=pe.Binary)\r\n",
            "\r\n",
            "        # Objective\r\n",
            "        def obj_rule(m):\r\n",
            "            return sum( m.Y[e] * df.ix[e,'dist'] for e in m.edge_set)\r\n",
            "        m.OBJ = pe.Objective(rule=obj_rule, sense=pe.minimize)\r\n",
            "\r\n",
            "        # Add the n-1 constraint\r\n",
            "        def simple_const_rule(m):\r\n",
            "            return sum( m.Y[e] for e in m.edge_set ) == len(node_set) - 1\r\n",
            "        m.simpleConst = pe.Constraint(rule = simple_const_rule)\r\n",
            "       \r\n",
            "        # Empty constraint list for subtour elimination constraints\r\n",
            "        # This is where the generated rows will go\r\n",
            "        m.ccConstraints = pe.ConstraintList()\r\n",
            "\r\n",
            "        self.m = m\r\n",
            "\r\n",
            "    def convertYsToNetworkx(self):\r\n",
            "        \"\"\"Convert the model's Y variables into a networkx object.\"\"\"\r\n",
            "        ans = networkx.Graph()\r\n",
            "        edges = [e for e in self.m.edge_set if self.m.Y[e].value > .99]\r\n",
            "        ans.add_edges_from(edges)\r\n",
            "        return ans\r\n",
            "\r\n",
            "    def solve(self):\r\n",
            "        \"\"\"Solve for the MST, using row generation for subtour elimination constraints.\"\"\"\r\n",
            "        def createConstForCC(m, cc):\r\n",
            "            cc = dict.fromkeys(cc)\r\n",
            "            return sum( m.Y[e] for e in m.edge_set if ((e[0] in cc) and (e[1] in cc))) <= len(cc) - 1\r\n",
            "        \r\n",
            "        if not hasattr(self, 'solver'):\r\n",
            "            solver = pyomo.opt.SolverFactory('gurobi')\r\n",
            "\r\n",
            "        done = False\r\n",
            "        while not done:\r\n",
            "            # Solve once and add subtour elimination constraints if necessary\r\n",
            "            # Finish when there are no more subtours\r\n",
            "            results = solver.solve(self.m, tee=False, keepfiles=False, options_string=\"mip_tolerances_integrality=1e-9 mip_tolerances_mipgap=0\")\r\n",
            "            # Construct a graph from the answer, and look for subtours\r\n",
            "            graph = self.convertYsToNetworkx()\r\n",
            "            ccs = list(networkx.connected_component_subgraphs(graph))\r\n",
            "            for cc in ccs:\r\n",
            "                print('Adding constraint for connected component:')\r\n",
            "                print(cc.nodes())\r\n",
            "                print(createConstForCC(self.m, cc))\r\n",
            "                print('--------------\\n')\r\n",
            "                self.m.ccConstraints.add( createConstForCC(self.m, cc) )\r\n",
            "            if ccs[0].number_of_nodes() == len(self.m.node_set):\r\n",
            "                done = True\r\n",
            "\r\n",
            "mst = MSTRowGeneration('mst.csv')\r\n",
            "mst.solve()\r\n",
            "\r\n",
            "mst.m.Y.pprint()\r\n",
            "print(mst.m.OBJ())\r\n"
          ]
        }
      ]
    },
    {
      "cell_type": "code",
      "source": [
        "!python mst.py\n"
      ],
      "metadata": {
        "colab": {
          "base_uri": "https://localhost:8080/"
        },
        "id": "cw2nJF43BBwL",
        "outputId": "10d17543-f080-44f1-88d4-9ada874aa65e"
      },
      "execution_count": 61,
      "outputs": [
        {
          "output_type": "stream",
          "name": "stdout",
          "text": [
            "WARNING: Initializing ordered Set node_set with a fundamentally unordered data\n",
            "    source (type: set).  This WILL potentially lead to nondeterministic\n",
            "    behavior in Pyomo\n",
            "ERROR: Rule failed when generating expression for Objective OBJ with index\n",
            "    None: AttributeError: 'DataFrame' object has no attribute 'ix'\n",
            "ERROR: Constructing component 'OBJ' from data=None failed: AttributeError:\n",
            "    'DataFrame' object has no attribute 'ix'\n",
            "Traceback (most recent call last):\n",
            "  File \"mst.py\", line 82, in <module>\n",
            "    mst = MSTRowGeneration('mst.csv')\n",
            "  File \"mst.py\", line 14, in __init__\n",
            "    self.createRelaxedModel()\n",
            "  File \"mst.py\", line 36, in createRelaxedModel\n",
            "    m.OBJ = pe.Objective(rule=obj_rule, sense=pe.minimize)\n",
            "  File \"/usr/local/lib/python3.7/dist-packages/pyomo/core/base/block.py\", line 542, in __setattr__\n",
            "    self.add_component(name, val)\n",
            "  File \"/usr/local/lib/python3.7/dist-packages/pyomo/core/base/block.py\", line 1087, in add_component\n",
            "    val.construct(data)\n",
            "  File \"/usr/local/lib/python3.7/dist-packages/pyomo/core/base/objective.py\", line 332, in construct\n",
            "    index, rule(block, index))\n",
            "  File \"/usr/local/lib/python3.7/dist-packages/pyomo/core/base/initializer.py\", line 372, in __call__\n",
            "    return self._fcn(parent)\n",
            "  File \"mst.py\", line 35, in obj_rule\n",
            "    return sum( m.Y[e] * df.ix[e,'dist'] for e in m.edge_set)\n",
            "  File \"mst.py\", line 35, in <genexpr>\n",
            "    return sum( m.Y[e] * df.ix[e,'dist'] for e in m.edge_set)\n",
            "  File \"/usr/local/lib/python3.7/dist-packages/pandas/core/generic.py\", line 5487, in __getattr__\n",
            "    return object.__getattribute__(self, name)\n",
            "AttributeError: 'DataFrame' object has no attribute 'ix'\n"
          ]
        }
      ]
    },
    {
      "cell_type": "code",
      "source": [
        ""
      ],
      "metadata": {
        "id": "p6tWFaypBD56"
      },
      "execution_count": null,
      "outputs": []
    }
  ]
}