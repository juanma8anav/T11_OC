{
 "cells": [
  {
   "cell_type": "markdown",
   "id": "41d2e162",
   "metadata": {},
   "source": [
    "# The Diet Problem\n",
    "\n",
    "## Summary\n",
    "The goal of the Diet Problem is to select foods that satisfy daily nutritional requirements at minimum cost. This problem can be formulated as a linear program, for which constraints limit the number of calories and the amount of vitamins, minerals, fats, sodium, and cholesterol in the diet. Danzig (1990) notes that the diet problem was motivated by the US Army's desire to minimize the cost of feeding GIs in the field while still providing a healthy diet.\n",
    "\n",
    "## Problem Statement\n",
    "The Diet Problem can be formulated mathematically as a linear programming problem using the following model.\n",
    "\n",
    "## Sets\n",
    "F = set of foods\n",
    "N = set of nutrients\n",
    "\n",
    "## Parameters\n",
    "ci = cost per serving of food i, ∀i∈F\n",
    "\n",
    "aij = amount of nutrient j in food i, ∀i∈F,∀j∈N\n",
    "\n",
    "Nminj = minimum level of nutrient j, ∀j∈N\n",
    "\n",
    "Nmaxj = maximum level of nutrient j, ∀j∈N\n",
    "\n",
    "Vi = the volume per serving of food i, ∀i∈F\n",
    "\n",
    "Vmax = maximum volume of food consumed\n",
    "\n",
    "## Variables\n",
    "xi = number of servings of food i to consume\n",
    "\n",
    "## Objective\n",
    "Minimize the total cost of the food\n",
    "min∑i∈Fcixi\n",
    "## Constraints\n",
    "Limit nutrient consumption for each nutrient j∈N.\n",
    "\n",
    "Nminj≤∑i∈Faijxi≤Nmaxj, ∀j∈N\n",
    "\n",
    "Limit the volume of food consumed\n",
    "\n",
    "∑i∈FVixi≤Vmax\n",
    "\n",
    "Consumption lower bound\n",
    "\n",
    "xi≥0, ∀i∈F\n",
    "\n",
    "## Pyomo Formulation\n",
    "We begin by importing the Pyomo package and creating a model object:"
   ]
  },
  {
   "cell_type": "code",
   "execution_count": 1,
   "id": "dbafceae",
   "metadata": {},
   "outputs": [],
   "source": [
    "from pyomo.environ import *\n",
    "infinity = float('inf')\n",
    "\n",
    "model = AbstractModel()"
   ]
  },
  {
   "cell_type": "markdown",
   "id": "779f7cdb",
   "metadata": {},
   "source": [
    "The sets F and N are declared abstractly using the Set component:"
   ]
  },
  {
   "cell_type": "code",
   "execution_count": 2,
   "id": "20b1f3cc",
   "metadata": {},
   "outputs": [],
   "source": [
    "# Foods\n",
    "model.F = Set()\n",
    "# Nutrients\n",
    "model.N = Set()"
   ]
  },
  {
   "cell_type": "markdown",
   "id": "9ff97a8b",
   "metadata": {},
   "source": [
    "Similarly, the model parameters are defined abstractly using the Param component:\n",
    "\n"
   ]
  },
  {
   "cell_type": "code",
   "execution_count": null,
   "id": "b14bada1",
   "metadata": {},
   "outputs": [],
   "source": [
    "# Cost of each food\n",
    "model.c    = Param(model.F, within=PositiveReals)\n",
    "# Amount of nutrient in each food\n",
    "model.a    = Param(model.F, model.N, within=NonNegativeReals)\n",
    "# Lower and upper bound on each nutrient\n",
    "model.Nmin = Param(model.N, within=NonNegativeReals, default=0.0)\n",
    "model.Nmax = Param(model.N, within=NonNegativeReals, default=infinity)\n",
    "# Volume per serving of food\n",
    "model.V    = Param(model.F, within=PositiveReals)\n",
    "# Maximum volume of food consumed\n",
    "model.Vmax = Param(within=PositiveReals)"
   ]
  },
  {
   "cell_type": "markdown",
   "id": "2c4cc3ee",
   "metadata": {},
   "source": [
    "The within option is used in these parameter declarations to define expected properties of the parameters. This information is used to perform error checks on the data that is used to initialize the parameter components.\n",
    "\n",
    "The Var component is used to define the decision variables:"
   ]
  },
  {
   "cell_type": "code",
   "execution_count": null,
   "id": "6b9181e5",
   "metadata": {},
   "outputs": [],
   "source": []
  },
  {
   "cell_type": "code",
   "execution_count": null,
   "id": "2cb06dd6",
   "metadata": {},
   "outputs": [],
   "source": []
  },
  {
   "cell_type": "code",
   "execution_count": null,
   "id": "66b7cf9c",
   "metadata": {},
   "outputs": [],
   "source": []
  },
  {
   "cell_type": "code",
   "execution_count": null,
   "id": "24f39551",
   "metadata": {},
   "outputs": [],
   "source": []
  },
  {
   "cell_type": "code",
   "execution_count": null,
   "id": "7d2f4556",
   "metadata": {},
   "outputs": [],
   "source": []
  },
  {
   "cell_type": "code",
   "execution_count": null,
   "id": "acfba608",
   "metadata": {},
   "outputs": [],
   "source": []
  },
  {
   "cell_type": "code",
   "execution_count": null,
   "id": "bee22aff",
   "metadata": {},
   "outputs": [],
   "source": []
  },
  {
   "cell_type": "code",
   "execution_count": null,
   "id": "1581654c",
   "metadata": {},
   "outputs": [],
   "source": []
  },
  {
   "cell_type": "code",
   "execution_count": null,
   "id": "b517b4fc",
   "metadata": {},
   "outputs": [],
   "source": []
  },
  {
   "cell_type": "code",
   "execution_count": null,
   "id": "f32423a1",
   "metadata": {},
   "outputs": [],
   "source": []
  },
  {
   "cell_type": "code",
   "execution_count": null,
   "id": "46b41554",
   "metadata": {},
   "outputs": [],
   "source": []
  },
  {
   "cell_type": "code",
   "execution_count": null,
   "id": "3aa9768b",
   "metadata": {},
   "outputs": [],
   "source": []
  },
  {
   "cell_type": "code",
   "execution_count": null,
   "id": "c3405676",
   "metadata": {},
   "outputs": [],
   "source": []
  },
  {
   "cell_type": "code",
   "execution_count": null,
   "id": "a42183dc",
   "metadata": {},
   "outputs": [],
   "source": []
  }
 ],
 "metadata": {
  "kernelspec": {
   "display_name": "Python 3 (ipykernel)",
   "language": "python",
   "name": "python3"
  },
  "language_info": {
   "codemirror_mode": {
    "name": "ipython",
    "version": 3
   },
   "file_extension": ".py",
   "mimetype": "text/x-python",
   "name": "python",
   "nbconvert_exporter": "python",
   "pygments_lexer": "ipython3",
   "version": "3.9.7"
  }
 },
 "nbformat": 4,
 "nbformat_minor": 5
}
